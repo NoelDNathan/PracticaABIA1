{
 "cells": [
  {
   "cell_type": "markdown",
   "metadata": {},
   "source": [
    "# ABIA Proyect 1: Hill Climbing"
   ]
  },
  {
   "cell_type": "markdown",
   "metadata": {},
   "source": [
    "<hr>\n",
    "<hr>"
   ]
  },
  {
   "cell_type": "markdown",
   "metadata": {},
   "source": [
    "## Imports"
   ]
  },
  {
   "cell_type": "code",
   "execution_count": 55,
   "metadata": {},
   "outputs": [],
   "source": [
    "import time\n",
    "import timeit\n",
    "import random\n",
    "import numpy as np\n",
    "from tkinter import Y\n",
    "from math import trunc, log\n",
    "from typing import List, Generator, Set\n",
    "from search import Problem, hill_climbing"
   ]
  },
  {
   "cell_type": "markdown",
   "metadata": {},
   "source": [
    "<hr>\n",
    "<hr>"
   ]
  },
  {
   "cell_type": "markdown",
   "metadata": {},
   "source": [
    "## File: abia_energia.py"
   ]
  },
  {
   "cell_type": "markdown",
   "metadata": {},
   "source": [
    "### Constants"
   ]
  },
  {
   "cell_type": "code",
   "execution_count": 56,
   "metadata": {},
   "outputs": [],
   "source": [
    "# Tipos de cliente\n",
    "CLIENTE_XG = 0\n",
    "CLIENTE_MG = 1\n",
    "CLIENTE_G = 2\n",
    "\n",
    "# Tipos de central\n",
    "CENTRAL_A = 0\n",
    "CENTRAL_B = 1\n",
    "CENTRAL_C = 2\n",
    "\n",
    "# Prioridades\n",
    "GARANTIZADO = 0\n",
    "NOGARANTIZADO = 1\n",
    "\n",
    "# Producción por tipo de central\n",
    "PROD = [[500.0, 250.0], [150.0, 100.0], [90.0, 10.0]]\n",
    "\n",
    "# Consumo por tipo de cliente\n",
    "CONSUMOS = [[15.0, 5.0], [3.0, 2.0], [2, 1]]\n",
    "\n",
    "# Tabla de precios por tipo de cliente\n",
    "# Primera dimensión: tipo de cliente\n",
    "# Segunda dimensión, por orden: garantizado, no garantizado, indemnización\n",
    "PRECIOS = [[40.0, 30.0, 5.0], [50.0, 40.0, 5.0], [60.0, 50.0, 5.0]]\n",
    "\n",
    "# Tabla de costes\n",
    "# Primera dimensión: tipo de central\n",
    "# Segunda dimensión, por orden: coste por producción, coste diario, coste parada\n",
    "COSTES = [[5, 2000, 1500], [8, 1000, 500], [15, 500, 150]]\n",
    "\n",
    "# Tabla de pérdidas\n",
    "# En cada posición, el primer valor es la distancia máxima del rango, el segundo valor es el tanto por uno de pérdida.\n",
    "PERDIDA = [[10, 0], [25, 0.1], [50, 0.2], [75, 0.4], [1000, 0.6]]\n",
    "TIPO = [0, 1, 2]\n",
    "TIPOCL = [0, 1, 2]\n",
    "TIPOCNT = [0, 1]"
   ]
  },
  {
   "cell_type": "markdown",
   "metadata": {},
   "source": [
    "<hr>"
   ]
  },
  {
   "cell_type": "markdown",
   "metadata": {},
   "source": [
    "### Class Central"
   ]
  },
  {
   "cell_type": "code",
   "execution_count": 57,
   "metadata": {},
   "outputs": [],
   "source": [
    "class Central(object):\n",
    "\n",
    "    def __init__(self, tipo: int, produccion: float, cx: int, cy: int):\n",
    "        self.Tipo = tipo\n",
    "        self.Produccion = produccion\n",
    "        self.CoordX = cx\n",
    "        self.CoordY = cy\n",
    "\n",
    "    def __repr__(self) -> str:\n",
    "        return f\"[Tipo={self.Tipo}|Produccion={self.Produccion}|cx={self.CoordX}|cy={self.CoordY}]\""
   ]
  },
  {
   "cell_type": "markdown",
   "metadata": {},
   "source": [
    "### Class Centrals"
   ]
  },
  {
   "cell_type": "code",
   "execution_count": 58,
   "metadata": {},
   "outputs": [],
   "source": [
    "class Centrales(list):\n",
    "    \n",
    "    def __init__(self, centrales_por_tipo: List[int], seed: int):\n",
    "        if len(centrales_por_tipo) != 3:\n",
    "            raise Exception(\"Vector Centrales de tamaño incorrecto\")\n",
    "        v_centrales = []\n",
    "        rand = random.Random(seed)\n",
    "        for i in range(3):\n",
    "            for j in range(centrales_por_tipo[i]):\n",
    "                p = (rand.random() * PROD[i][0]) + PROD[i][1]\n",
    "                c = Central(TIPO[i], trunc(p), rand.randint(\n",
    "                    0, 100), rand.randint(0, 100))\n",
    "                v_centrales.append(c)\n",
    "        super().__init__(v_centrales)"
   ]
  },
  {
   "cell_type": "markdown",
   "metadata": {},
   "source": [
    "<hr>"
   ]
  },
  {
   "cell_type": "markdown",
   "metadata": {},
   "source": [
    "### Class Client"
   ]
  },
  {
   "cell_type": "code",
   "execution_count": 59,
   "metadata": {},
   "outputs": [],
   "source": [
    "class Cliente(object):\n",
    "    \n",
    "    def __init__(self, t: int, cons: float, cont: int, cx: int, cy: int):\n",
    "        self.Tipo = t\n",
    "        self.Consumo = cons\n",
    "        self.Contrato = cont\n",
    "        self.CoordX = cx\n",
    "        self.CoordY = cy\n",
    "\n",
    "    def __repr__(self) -> str:\n",
    "        return f\"[Tipo={self.Tipo}|Consumo={self.Consumo}|Contrato={self.Contrato}|CoordX={self.CoordX}|CoordY={self.CoordY}]\""
   ]
  },
  {
   "cell_type": "markdown",
   "metadata": {},
   "source": [
    "### Class Clients"
   ]
  },
  {
   "cell_type": "code",
   "execution_count": 60,
   "metadata": {},
   "outputs": [],
   "source": [
    "class Clientes(list):\n",
    "\n",
    "    def __init__(self, ncl: int, propc: List[float], propg: float, seed: int):\n",
    "        if len(propc) != 3:\n",
    "            raise Exception(\n",
    "                \"Vector proporciones tipos clientes de tamaño incorrecto\")\n",
    "        if (propc[0] + propc[1] + propc[2]) != 1.0:\n",
    "            raise Exception(\"Vector proporciones tipos clientes no suma 1\")\n",
    "        if 0.0 > propg > 1.0:\n",
    "            raise Exception(\"Proporcion garantizado fuera de limites\")\n",
    "\n",
    "        v_clientes = []\n",
    "        rand = random.Random(seed + 1)\n",
    "\n",
    "        for i in range(ncl):\n",
    "            dice = rand.random()\n",
    "            if dice < propc[0]:\n",
    "                rd = 0\n",
    "            elif dice < (propc[0] + propc[1]):\n",
    "                rd = 1\n",
    "            else:\n",
    "                rd = 2\n",
    "\n",
    "            dice = rand.random()\n",
    "            if dice < propg:\n",
    "                rc = 0\n",
    "            else:\n",
    "                rc = 1\n",
    "\n",
    "            c = (rand.random() * CONSUMOS[rd][0]) + CONSUMOS[rd][1]\n",
    "            v_clientes.append(\n",
    "                Cliente(TIPOCL[rd], trunc(c), TIPOCNT[rc], rand.randint(0, 100), rand.randint(0, 100)))\n",
    "        super().__init__(v_clientes)"
   ]
  },
  {
   "cell_type": "markdown",
   "metadata": {},
   "source": [
    "<hr>"
   ]
  },
  {
   "cell_type": "markdown",
   "metadata": {},
   "source": [
    "### Static Class VEnergia"
   ]
  },
  {
   "cell_type": "code",
   "execution_count": 61,
   "metadata": {},
   "outputs": [],
   "source": [
    "class VEnergia(object):\n",
    "\n",
    "    @staticmethod\n",
    "    def tarifa_cliente_garantizada(tipo: int) -> float:\n",
    "        \n",
    "        \"\"\" Retorna la tarifa de un cliente con servicio garantizado. \"\"\"\n",
    "\n",
    "        if tipo < 0 or tipo > 2:\n",
    "            raise Exception(\"Tipo fuera de rango\")\n",
    "        else:\n",
    "            return PRECIOS[tipo][0]\n",
    "\n",
    "    @staticmethod\n",
    "    def tarifa_cliente_no_garantizada(tipo: int) -> float:\n",
    "        \n",
    "        \"\"\" Retorna la tarifa de un cliente con servicio no garantizado. \"\"\"\n",
    "        \n",
    "        if tipo < 0 or tipo > 2:\n",
    "            raise Exception(\"Tipo fuera de rango\")\n",
    "        else:\n",
    "            return PRECIOS[tipo][1]\n",
    "\n",
    "    @staticmethod\n",
    "    def tarifa_cliente_penalizacion(tipo: int) -> float:\n",
    "        \n",
    "        \"\"\" Retorna la penalización por servir a un cliente con servicio no garantizado. \"\"\"\n",
    "        \n",
    "        if tipo < 0 or tipo > 2:\n",
    "            raise Exception(\"Tipo fuera de rango\")\n",
    "        else:\n",
    "            return PRECIOS[tipo][2]\n",
    "\n",
    "    @staticmethod\n",
    "    def prices_production_mw(tipo: int) -> float:\n",
    "        \n",
    "        \"\"\" Retorna el coste de producción por MW para una central de un tipo. \"\"\"\n",
    "        \n",
    "        if tipo < 0 or tipo > 2:\n",
    "            raise Exception(\"Tipo fuera de rango\")\n",
    "        else:\n",
    "            return COSTES[tipo][0]\n",
    "\n",
    "    @staticmethod\n",
    "    def daily_cost(tipo: int) -> float:\n",
    "        \n",
    "        \"\"\" Retorna el coste de una central en marcha segun su tipo. \"\"\"\n",
    "        \n",
    "        if tipo < 0 or tipo > 2:\n",
    "            raise Exception(\"Tipo fuera de rango\")\n",
    "        else:\n",
    "            return COSTES[tipo][1]\n",
    "\n",
    "    @staticmethod\n",
    "    def stop_cost(tipo: int) -> float:\n",
    "        \n",
    "        \"\"\" Retorna el coste de una central en parada segun su tipo. \"\"\"\n",
    "        \n",
    "        if tipo < 0 or tipo > 2:\n",
    "            raise Exception(\"Tipo fuera de rango\")\n",
    "        else:\n",
    "            return COSTES[tipo][2]\n",
    "\n",
    "    @staticmethod\n",
    "    def loss(distancia: float) -> float:\n",
    "        \n",
    "        \"\"\" Retorna la perdida (en tanto por uno) segun la distancia entre central y cliente. \"\"\"\n",
    "        \n",
    "        i = 0\n",
    "        while distancia > PERDIDA[i][0]:\n",
    "            i = i + 1\n",
    "        return PERDIDA[i][1]"
   ]
  },
  {
   "cell_type": "markdown",
   "metadata": {},
   "source": [
    "<hr>\n",
    "<hr>"
   ]
  },
  {
   "cell_type": "markdown",
   "metadata": {},
   "source": [
    "## File: abia_energy_problem.py"
   ]
  },
  {
   "cell_type": "markdown",
   "metadata": {},
   "source": [
    "### Class Problem Parameters"
   ]
  },
  {
   "cell_type": "markdown",
   "metadata": {},
   "source": [
    "Esta clase es la misma desde que se crea, por tanto, ¿podríamos evitarnos pasarla por cada copia? "
   ]
  },
  {
   "cell_type": "code",
   "execution_count": 62,
   "metadata": {},
   "outputs": [],
   "source": [
    "class ProblemParameters(object):\n",
    "    def __init__(self, clients_vector: Clientes, power_plants_vector: Centrales) -> None:\n",
    "        self.clients_vector = clients_vector\n",
    "        self.power_plants_vector = power_plants_vector\n",
    "\n",
    "    def __repr__(self):\n",
    "        return f\"clients_vector={self.clients_vector}\\n\\npower_plants_vector={self.power_plants_vector})\""
   ]
  },
  {
   "cell_type": "markdown",
   "metadata": {},
   "source": [
    "<hr>"
   ]
  },
  {
   "cell_type": "markdown",
   "metadata": {},
   "source": [
    "### Operators"
   ]
  },
  {
   "cell_type": "code",
   "execution_count": 63,
   "metadata": {},
   "outputs": [],
   "source": [
    "class Operator(object):\n",
    "    pass\n",
    "\n",
    "class MoveClient(Operator):\n",
    "    def __init__(self, id_client, id_destination_PwP):\n",
    "        self.id_client = id_client\n",
    "        self.id_destination_PwP = id_destination_PwP\n",
    "\n",
    "    def __repr__(self) -> str:\n",
    "        return f\"Client {self.id_client} has been moved to power plant {self.id_destination_PwP}\"\n",
    "\n",
    "class SwapClients(Operator):\n",
    "    def __init__(self, id_client1, id_client2):\n",
    "        self.id_client1 = id_client1\n",
    "        self.id_client2 = id_client2\n",
    "\n",
    "    def __repr__(self) -> str:\n",
    "        return f\"Swap between Client {self.id_client1} and Client {self.id_client2}\"\n",
    "\n",
    "class RemoveNGClient(Operator):\n",
    "    def __init__(self, id_client: int):\n",
    "        self.id_client = id_client\n",
    "\n",
    "    def __repr__(self) -> str:\n",
    "        return f\"Client {self.id_client} has been removed\"\n",
    "\n",
    "class TurnOnPowerPlant(Operator):\n",
    "    def __init__(self, id_pp: int):\n",
    "        self.id_pp = id_pp\n",
    "\n",
    "    def __repr__(self) -> str:\n",
    "        return f\"Power Plant {self.id_pp} has been turned on\""
   ]
  },
  {
   "cell_type": "markdown",
   "metadata": {},
   "source": [
    "<hr>"
   ]
  },
  {
   "cell_type": "markdown",
   "metadata": {},
   "source": [
    "### Our methods"
   ]
  },
  {
   "cell_type": "markdown",
   "metadata": {},
   "source": [
    "Se podria meter en VEnergia?"
   ]
  },
  {
   "cell_type": "code",
   "execution_count": 64,
   "metadata": {},
   "outputs": [],
   "source": [
    "def distance(obj1, obj2):\n",
    "    x = obj1.CoordX - obj2.CoordX\n",
    "    y = obj1.CoordY - obj2.CoordY\n",
    "    return (x**2 + y ** 2)**(1/2)\n",
    "\n",
    "def electry_supplied_to_client(client: Cliente, power_plant: Central) -> int:\n",
    "    dist = distance(client, power_plant)\n",
    "    return client.Consumo * (1 + VEnergia.loss(dist))\n",
    "\n",
    "# def calculate_entropy(params:ProblemParameters, id, remain):\n",
    "#         max_prod = params.power_plants_vector[id].Produccion\n",
    "#         occupancy = 1 - (remain/max_prod)\n",
    "#         if occupancy > 0:\n",
    "#             return - (occupancy * log(occupancy))\n",
    "#         return 0\n"
   ]
  },
  {
   "cell_type": "markdown",
   "metadata": {},
   "source": [
    "<hr>"
   ]
  },
  {
   "cell_type": "markdown",
   "metadata": {},
   "source": [
    "### Our constants"
   ]
  },
  {
   "cell_type": "code",
   "execution_count": 65,
   "metadata": {},
   "outputs": [],
   "source": [
    "NONPOWERPLANT = -1"
   ]
  },
  {
   "cell_type": "markdown",
   "metadata": {},
   "source": [
    "### Class State Representation"
   ]
  },
  {
   "cell_type": "code",
   "execution_count": 66,
   "metadata": {},
   "outputs": [],
   "source": [
    "class StateRepresentation(object):\n",
    "    \n",
    "    def __init__(self, \n",
    "                 params: ProblemParameters, \n",
    "                 c_pp: List[int], \n",
    "                 remain: List[float], \n",
    "                 consum: List[List[float]], \n",
    "                 gain: float,\n",
    "                 entropy:float,\n",
    "                 prices: List[List[float]]) -> None:\n",
    "\n",
    "        self.params = params\n",
    "        self.c_pp   = c_pp\n",
    "        self.remain = remain\n",
    "        self.consum = consum\n",
    "        self.prices = prices\n",
    "        self.gain   = gain\n",
    "        self.entropy = entropy\n",
    "\n",
    "    def copy(self):\n",
    "        return StateRepresentation(self.params, \n",
    "                                   self.c_pp.copy(), \n",
    "                                   self.remain.copy(), \n",
    "                                   self.consum, \n",
    "                                   self.gain,\n",
    "                                   self.entropy,\n",
    "                                   self.prices)\n",
    "\n",
    "    def __repr__(self) -> str:\n",
    "        s_c = 0\n",
    "        for i in self.c_pp:\n",
    "            if i != NONPOWERPLANT: s_c += 1\n",
    "        return f\"Serviced clietns = {s_c} of {len(self.c_pp)} \\nGains: {self.gain_heuristic()} \\n\"\n",
    "        \n",
    "    def generate_actions(self) -> Generator[Operator, None, None]:\n",
    "        num_c  = len(self.params.clients_vector)\n",
    "        num_pp = len(self.params.power_plants_vector)\n",
    "\n",
    "        for id_pp in range(num_pp):\n",
    "            \n",
    "            # TurnOnPowerPlant\n",
    "            if self.remain[id_pp] == self.params.power_plants_vector[id_pp].Produccion:\n",
    "                yield TurnOnPowerPlant(id_pp)\n",
    "\n",
    "            # Move Client\n",
    "            else:\n",
    "                for id_c in range(num_c):\n",
    "                    if id_pp == self.c_pp[id_c]:\n",
    "                        continue\n",
    "\n",
    "                    c_consum = self.consum[id_pp][id_c]\n",
    "                    if c_consum < self.remain[id_pp]:\n",
    "                        yield MoveClient(id_c, id_pp)\n",
    "        \n",
    "        for id_c1 in range(num_c):\n",
    "            #Remove client\n",
    "            if self.params.clients_vector[id_c1].Tipo == NOGARANTIZADO:\n",
    "                 yield RemoveNGClient(id_c1)\n",
    "\n",
    "            # Swap Client\n",
    "            if id_c1 != num_c - 1:\n",
    "                for id_c2 in range(id_c1 + 1, num_c):\n",
    "                    id_pp1 = self.c_pp[id_c1]\n",
    "                    id_pp2 = self.c_pp[id_c2]\n",
    "\n",
    "                    if id_pp1 == id_pp2 or id_pp1 == NONPOWERPLANT or id_pp2 == NONPOWERPLANT:\n",
    "                        continue\n",
    "\n",
    "                    consum_c1_pp1 = self.consum[id_pp1][id_c1]\n",
    "                    consum_c1_pp2 = self.consum[id_pp2][id_c1]\n",
    "                    consum_c2_pp1 = self.consum[id_pp1][id_c2]\n",
    "                    consum_c2_pp2 = self.consum[id_pp2][id_c2]\n",
    "\n",
    "                    remain_pp1 = self.remain[id_pp1]\n",
    "                    remain_pp2 = self.remain[id_pp2]\n",
    "\n",
    "                    if consum_c2_pp1 - consum_c1_pp1 < remain_pp1 and consum_c1_pp2 - consum_c2_pp2 < remain_pp2:\n",
    "                        yield SwapClients(id_c1, id_c2)\n",
    "\n",
    "    def apply_action(self, action: Operator):\n",
    "        new_state = self.copy()\n",
    "\n",
    "        if isinstance(action, MoveClient):\n",
    "            id_c   = action.id_client\n",
    "            id_pp1 = self.c_pp[id_c] \n",
    "            pp1    = self.params.power_plants_vector[id_pp1]\n",
    "            id_pp2 = action.id_destination_PwP\n",
    "            pp2    = self.params.power_plants_vector[id_pp2]\n",
    "\n",
    "            new_state.c_pp[id_c] = id_pp2\n",
    "\n",
    "            if id_pp1 != NONPOWERPLANT:\n",
    "                # new_state.entropy -= calculate_entropy(self.params, id_pp1, self.remain[id_pp1])\n",
    "                new_state.remain[id_pp1] += self.consum[id_pp1][id_c]\n",
    "                # new_state.entropy += calculate_entropy(self.params, id_pp1, new_state.remain[id_pp1])\n",
    "                \n",
    "                # Podria ser un self.remain??\n",
    "                if new_state.remain[id_pp1] == pp1.Produccion:\n",
    "                    new_state.gain += self.prices[1][id_pp1] - self.prices[0][id_pp1]\n",
    "    \n",
    "            else:\n",
    "                new_state.gain += self.prices[2][id_c]\n",
    "            \n",
    "            # Podria ser un self.remain??\n",
    "            # if new_state.remain[id_pp2] == pp2.Produccion:\n",
    "            #     new_state.gain -= self.prices[1][id_pp2] + self.prices[0][id_pp2]\n",
    "            # new_state.entropy -= calculate_entropy(self.params, id_pp2, self.remain[id_pp2])\n",
    "            new_state.remain[id_pp2] -= self.consum[id_pp2][id_c]\n",
    "            # new_state.entropy += calculate_entropy(self.params, id_pp2, new_state.remain[id_pp2])\n",
    "\n",
    "        elif isinstance(action, SwapClients):\n",
    "            id_c1  = action.id_client1\n",
    "            id_c2  = action.id_client2\n",
    "            id_pp1 = self.c_pp[id_c1]\n",
    "            id_pp2 = self.c_pp[id_c2]\n",
    "\n",
    "            new_state.c_pp[id_c1] = id_pp2\n",
    "            new_state.c_pp[id_c2] = id_pp1\n",
    "\n",
    "            # new_state.entropy -= calculate_entropy(self.params, id_pp1, self.remain[id_pp1])\n",
    "            # new_state.entropy -= calculate_entropy(self.params, id_pp2, self.remain[id_pp2])\n",
    "\n",
    "            new_state.remain[id_pp1] += self.consum[id_pp1][id_c1] - self.consum[id_pp1][id_c2]\n",
    "            new_state.remain[id_pp2] += self.consum[id_pp2][id_c2] - self.consum[id_pp2][id_c1]\n",
    "\n",
    "            # new_state.entropy += calculate_entropy(self.params, id_pp1, new_state.remain[id_pp1])\n",
    "            # new_state.entropy += calculate_entropy(self.params, id_pp2, new_state.remain[id_pp2])\n",
    "\n",
    "        elif isinstance(action, TurnOnPowerPlant):\n",
    "            new_state.gain -= self.prices[1][action.id_pp] + self.prices[0][action.id_pp]\n",
    "    \n",
    "        elif isinstance(action, RemoveNGClient):\n",
    "            id_c = action.id_client\n",
    "\n",
    "            new_state.c_pp[id_c] = -1\n",
    "\n",
    "            id_pp = self.c_pp[id_c]\n",
    "\n",
    "            # new_state.entropy -= calculate_entropy(self.params, id_pp, self.remain[id_pp])\n",
    "\n",
    "            new_state.remain[id_pp] += self.consum[id_pp][id_c]\n",
    "\n",
    "            # new_state.entropy += calculate_entropy(self.params, id_pp, new_state.remain[id_pp])\n",
    "\n",
    "        return new_state\n",
    "\n",
    "    def gain_heuristic(self) -> float:\n",
    "        return self.gain\n",
    "\n",
    "    def entropy_heuritic(self) -> float:\n",
    "        return InitialState.calculate_total_entropy(self.params, self.remain)\n",
    "\n",
    "    def combined_heuristic(self) -> float:\n",
    "        return self.gain_heuristic() + self.entropy_heuritic()"
   ]
  },
  {
   "cell_type": "markdown",
   "metadata": {},
   "source": [
    "<hr>"
   ]
  },
  {
   "cell_type": "markdown",
   "metadata": {},
   "source": [
    "### Generation of the initial state"
   ]
  },
  {
   "cell_type": "code",
   "execution_count": 67,
   "metadata": {},
   "outputs": [],
   "source": [
    "class InitialState(object):\n",
    "\n",
    "    @staticmethod\n",
    "    def simple_state(params) -> StateRepresentation:\n",
    "        remain, consum = InitialState.remain_consum(params)\n",
    "        \n",
    "        c_pp  = []\n",
    "        pp    = list(range(len(params.power_plants_vector)))\n",
    "        id_pp = pp.pop()\n",
    "        for id_client, client in enumerate(params.clients_vector):\n",
    "            if client.Contrato == NOGARANTIZADO:\n",
    "                c_pp.append(NONPOWERPLANT)\n",
    "                continue\n",
    "\n",
    "            c_consum = consum[id_pp][id_client]\n",
    "            while True:\n",
    "                if c_consum < remain[id_pp]:\n",
    "                    c_pp.append(id_pp)\n",
    "                    remain[id_pp] -= c_consum\n",
    "                    break\n",
    "                id_pp = pp.pop()\n",
    "\n",
    "        c_pp = np.array(c_pp)\n",
    "        \n",
    "        gain, prices = InitialState.calculate_gain(params, c_pp, remain)\n",
    "        entropy = InitialState.calculate_total_entropy(params, remain)\n",
    "        return StateRepresentation(params, c_pp, remain, consum, gain, entropy, prices)\n",
    "    \n",
    "    @staticmethod\n",
    "    def simple_state2(params, worst=False, invert= False) -> StateRepresentation:\n",
    "        c_pp   = []\n",
    "        num_c  = len(params.clients_vector)\n",
    "        num_pp = len(params.power_plants_vector)\n",
    "        id_pp = 0 if not invert else len(params.power_plants_vector)\n",
    "        id_c = cycle= 0\n",
    "        MAX_NUM_CYCLE = 15\n",
    "        def next_pp():\n",
    "            nonlocal id_pp, cycle\n",
    "            print(id_pp)\n",
    "            id_pp += 1 if not invert else -1\n",
    "            if invert and id_pp != 0 or not invert and id_pp == num_pp:\n",
    "                return\n",
    "\n",
    "            id_pp = 0\n",
    "            cycle += 1\n",
    "            if cycle == MAX_NUM_CYCLE:\n",
    "                raise Exception(\"Sorry, max number of cycles did it\")\n",
    "\n",
    "        remain, consum = InitialState.remain_consum(params)\n",
    "        \n",
    "\n",
    "        while id_c < num_c:\n",
    "            if params.clients_vector[id_c].Tipo == NOGARANTIZADO:\n",
    "                c_pp.append(NONPOWERPLANT)\n",
    "\n",
    "            elif remain[id_pp] > consum[id_pp][id_c]:\n",
    "                remain[id_pp] -= consum[id_pp][id_c]\n",
    "                c_pp.append(id_pp)\n",
    "            else:\n",
    "                next_pp()\n",
    "                continue\n",
    "\n",
    "            if worst:\n",
    "                next_pp()\n",
    "            id_c += 1 \n",
    "\n",
    "        c_pp = np.array(c_pp)\n",
    "\n",
    "        gain, prices = InitialState.calculate_gain(params, c_pp, remain)\n",
    "\n",
    "        entropy = InitialState.calculate_total_entropy(params, remain)\n",
    "\n",
    "        return StateRepresentation(params, c_pp, remain, consum, gain, entropy, prices)\n",
    "\n",
    "\n",
    "    @staticmethod\n",
    "    def generate_simple_initial_state2(params: ProblemParameters, worst=False):\n",
    "        remaining_energies, real_consumption = InitialState.remain_consum(params)\n",
    "        client_power_plant = list()\n",
    "        numClients = len(params.clients_vector)\n",
    "        numPwP = len(params.power_plants_vector)\n",
    "        id_client = 0\n",
    "        id_PwP = 0\n",
    "        cycle = 0\n",
    "        MAX_NUM_CYCLE = 15 *   # Max num\n",
    "        while id_client < numClients:\n",
    "            if params.clients_vector[id_client].Tipo == NOGARANTIZADO:\n",
    "                client_power_plant.append(-1)\n",
    "\n",
    "            elif remaining_energies[id_PwP] > real_consumption[id_PwP][id_client]:\n",
    "                remaining_energies[id_PwP] -= real_consumption[id_PwP][id_client]\n",
    "                client_power_plant.append(id_PwP)\n",
    "            else:\n",
    "                # Si no se han cumplido ninguna de las dos condiciones, el cliente no es añadido a la central\n",
    "                # Por eso pasamos a mirar la siguiente central\n",
    "                id_PwP += 1\n",
    "\n",
    "                # Si nos exedemos del número de centrales, volvemos a poner este valor a cero\n",
    "                if id_PwP == numPwP:\n",
    "                    id_PwP = 0\n",
    "                    cycle += 1\n",
    "                    if cycle == MAX_NUM_CYCLE:\n",
    "                        raise Exception(\"Sorry, max number of cycles did it\")\n",
    "                continue\n",
    "\n",
    "            if worst:\n",
    "                id_PwP += 1\n",
    "                if id_PwP == numPwP:\n",
    "                    id_PwP = 0\n",
    "                    cycle += 1\n",
    "                    if cycle == MAX_NUM_CYCLE:\n",
    "                        raise Exception(\"Sorry, max number of cycles did it\")\n",
    "            id_client += 1\n",
    "\n",
    "        client_power_plant = np.array(client_power_plant)\n",
    "        gain, prices = InitialState.calculate_gain(params, remaining_energies, client_power_plant)\n",
    "        entropy = InitialState.calculate_total_entropy(params, remaining_energies)\n",
    "\n",
    "\n",
    "        return StateRepresentation(params, client_power_plant, remaining_energies, real_consumption, gain, entropy, prices)\n",
    "        \n",
    "\n",
    "    @staticmethod\n",
    "    def complex_state(params: ProblemParameters, n: int, useNG: bool) -> StateRepresentation:\n",
    "        remaining_energies, real_consumption = InitialState.remain_consum(params)\n",
    "\n",
    "        client_power_plant = [-1] * len(params.clients_vector)\n",
    "        div = 100 // n\n",
    "\n",
    "        zones = [[[] for i in range(n)]for _ in range(n)]\n",
    "\n",
    "        def assign_power_plant(client_vector, isGuaranteed):\n",
    "            for id, client in client_vector:\n",
    "                X = min(client.CoordX // div, n - 1)\n",
    "                Y = min(client.CoordY // div, n - 1)\n",
    "\n",
    "                Z1 = 0\n",
    "                Z2 = 0\n",
    "                Z3 = 0\n",
    "                dist = 0\n",
    "                next_moveX = []\n",
    "                next_moveY = []\n",
    "\n",
    "                while True:\n",
    "                    if len(zones[Y + Z1][X + Z2]) > 0:\n",
    "                        PwP = zones[Y + Z1][X + Z2][Z3]\n",
    "                        consum = real_consumption[PwP][id]\n",
    "                        if consum < remaining_energies[PwP]:\n",
    "                            client_power_plant[id] = PwP\n",
    "                            remaining_energies[PwP] -= consum\n",
    "                            break\n",
    "                        # Se van mirando las centrales de cada zona hasta que no quedan más\n",
    "                        elif Z3 < len(zones[Y + Z1][X + Z2]) - 1:\n",
    "                            Z3 += 1\n",
    "                            continue\n",
    "\n",
    "                    if len(next_moveX) == 0:\n",
    "\n",
    "                        dist += 1\n",
    "\n",
    "                        # All region watched\n",
    "                        if dist >= n:\n",
    "                            if isGuaranteed:\n",
    "                                raise Exception(\n",
    "                                    \"Too much client than power plants\")\n",
    "                            else:\n",
    "                                break\n",
    "\n",
    "                        lim_left = -dist if X - dist >= 0 else 0\n",
    "                        lim_down = -dist if Y - dist >= 0 else 0\n",
    "                        lim_right = dist if X + dist < n else (n - 1) - X\n",
    "                        lim_up = dist if Y + dist < n else (n - 1) - Y\n",
    "\n",
    "                        # We will use pop, so the order is inversed that we are doing here\n",
    "\n",
    "                        moves_axis_X = list(range(lim_left, lim_right + 1))\n",
    "                        moves_axis_Y = list(range(lim_down, lim_up + 1))\n",
    "\n",
    "                        # Go right\n",
    "                        next_moveX += moves_axis_X\n",
    "                        next_moveY += [lim_down] * len(moves_axis_X)\n",
    "\n",
    "                        # Go up\n",
    "                        next_moveX += [lim_right] * len(moves_axis_Y)\n",
    "                        next_moveY += moves_axis_Y\n",
    "\n",
    "                        # Go left\n",
    "                        next_moveX += reversed(moves_axis_X)\n",
    "                        next_moveY += [lim_up] * len(moves_axis_X)\n",
    "\n",
    "                        # Go down\n",
    "                        next_moveX += [lim_left] * len(moves_axis_Y)\n",
    "                        next_moveY += reversed(moves_axis_Y)\n",
    "\n",
    "                    else:\n",
    "                        Z3 = 0\n",
    "                        Z1 = next_moveY.pop()\n",
    "                        Z2 = next_moveX.pop()\n",
    "\n",
    "        for id, PwP in enumerate(params.power_plants_vector):\n",
    "            # podría passar que en algún caso muy extremo CoordX = 100 or CoordY\n",
    "            # En ese caso queremos que su X or Y sea 9 y no 10\n",
    "            X = min(PwP.CoordX // div, n - 1)\n",
    "            Y = min(PwP.CoordY // div, n - 1)\n",
    "            zones[Y][X].append(id)\n",
    "\n",
    "        G_clients = filter(\n",
    "            lambda x: x[1].Contrato != NOGARANTIZADO, enumerate(params.clients_vector))\n",
    "\n",
    "        assign_power_plant(G_clients, True)\n",
    "\n",
    "        if useNG:\n",
    "            NG_clients = filter(\n",
    "                lambda x: x[1].Contrato == NOGARANTIZADO, enumerate(params.clients_vector))\n",
    "            assign_power_plant(NG_clients, False)\n",
    "\n",
    "        gain, prices = InitialState.calculate_gain(params, client_power_plant, remaining_energies)\n",
    "        entropy = InitialState.calculate_total_entropy(params, remaining_energies)\n",
    "\n",
    "        return StateRepresentation(params, client_power_plant, remaining_energies, real_consumption, gain, entropy, prices)\n",
    "    \n",
    "    \n",
    "    @staticmethod\n",
    "    def remain_consum(params):\n",
    "        remain = []\n",
    "        consum = []\n",
    "\n",
    "        for pp in params.power_plants_vector:\n",
    "            remain.append(pp.Produccion)\n",
    "            row = []\n",
    "            for client in params.clients_vector:\n",
    "                c_consum = electry_supplied_to_client(client, pp)\n",
    "                row.append(c_consum)\n",
    "            consum.append(row)\n",
    "\n",
    "        remain = np.array(remain)\n",
    "        consum = np.array(consum)\n",
    "        return remain, consum\n",
    "\n",
    "    @staticmethod\n",
    "    def calculate_gain(params, c_pp, remain) -> float:\n",
    "        gain = 0\n",
    "        prices = [[], [], []]\n",
    "\n",
    "        for id_pp, pp in enumerate(params.power_plants_vector):\n",
    "            prices[0].append(VEnergia.stop_cost(pp.Tipo))\n",
    "            prices[1].append(VEnergia.daily_cost(pp.Tipo) + VEnergia.prices_production_mw(pp.Tipo) * pp.Produccion)\n",
    "\n",
    "            if pp.Produccion == remain[id_pp]: \n",
    "                gain -= prices[0][id_pp]\n",
    "            else:\n",
    "                gain -= prices[1][id_pp]\n",
    "\n",
    "        for id_c, c in enumerate(params.clients_vector):\n",
    "            if c.Contrato == 0:   \n",
    "                gain += c.Consumo * VEnergia.tarifa_cliente_garantizada(c.Tipo)\n",
    "            else:                 \n",
    "                gain += c.Consumo * VEnergia.tarifa_cliente_no_garantizada(c.Tipo)\n",
    "\n",
    "            prices[2].append(c.Consumo * VEnergia.tarifa_cliente_penalizacion(c.Tipo))\n",
    "            if c_pp[id_c] == NONPOWERPLANT:  gain -= prices[2][id_c]\n",
    "\n",
    "        return gain, prices\n",
    "\n",
    "    @staticmethod\n",
    "    def calculate_total_entropy(params: ProblemParameters, remaining_energies):\n",
    "        total_entropy = 0\n",
    "        for id, remain in enumerate(remaining_energies):\n",
    "            max_prod = params.power_plants_vector[id].Produccion\n",
    "            occupancy = 1 - (remain/max_prod)\n",
    "            if occupancy > 0:\n",
    "                total_entropy +=  - (occupancy * log(occupancy))            \n",
    "        return -total_entropy\n",
    "            "
   ]
  },
  {
   "cell_type": "markdown",
   "metadata": {},
   "source": [
    "<hr>"
   ]
  },
  {
   "cell_type": "markdown",
   "metadata": {},
   "source": [
    "### Class of the Problem"
   ]
  },
  {
   "cell_type": "code",
   "execution_count": 68,
   "metadata": {},
   "outputs": [],
   "source": [
    "class EnergyProblem(Problem):\n",
    "    def __init__(self, initial_state: StateRepresentation):\n",
    "        self.times = [0, 0, 0]\n",
    "        self.iterations = [0, 0, 0]\n",
    "        super().__init__(initial_state)\n",
    "\n",
    "    def actions(self, state: StateRepresentation) -> Generator[Operator, None, None]:\n",
    "\n",
    "        # print(state.remain)\n",
    "        # print(sum(state.remain))\n",
    "        start   = time.time()\n",
    "        actions = state.generate_actions()\n",
    "        end     = time.time()\n",
    "        self.times[0] += end - start\n",
    "        self.iterations[0] += 1\n",
    "        return actions\n",
    "\n",
    "    def result(self, state: StateRepresentation, action: Operator) -> StateRepresentation:\n",
    "        start   = time.time()\n",
    "        result  = state.apply_action(action)\n",
    "        end     = time.time()\n",
    "        self.times[1] += end - start\n",
    "        self.iterations[1] += 1\n",
    "        return result\n",
    "\n",
    "    def value(self, state: StateRepresentation) -> float:\n",
    "        start   = time.time()\n",
    "        value   = state.gain_heuristic()\n",
    "        end     = time.time()\n",
    "        self.times[2] += end - start\n",
    "        self.iterations[2] += 1\n",
    "        return value\n",
    "\n",
    "    def goal_test(self, state: StateRepresentation) -> bool:\n",
    "        return False"
   ]
  },
  {
   "cell_type": "markdown",
   "metadata": {},
   "source": [
    "<hr>\n",
    "<hr>"
   ]
  },
  {
   "cell_type": "markdown",
   "metadata": {},
   "source": [
    "## Execution of the program"
   ]
  },
  {
   "cell_type": "code",
   "execution_count": 69,
   "metadata": {},
   "outputs": [
    {
     "name": "stdout",
     "output_type": "stream",
     "text": [
      "0\n",
      "0\n",
      "0\n",
      "0\n",
      "0\n",
      "0\n",
      "0\n",
      "0\n",
      "0\n",
      "0\n",
      "0\n",
      "0\n",
      "0\n",
      "0\n",
      "0\n"
     ]
    },
    {
     "ename": "Exception",
     "evalue": "Sorry, max number of cycles did it",
     "output_type": "error",
     "traceback": [
      "\u001b[1;31m---------------------------------------------------------------------------\u001b[0m",
      "\u001b[1;31mException\u001b[0m                                 Traceback (most recent call last)",
      "Cell \u001b[1;32mIn [69], line 4\u001b[0m\n\u001b[0;32m      2\u001b[0m centrales      \u001b[39m=\u001b[39m Centrales(centrales_por_tipo\u001b[39m=\u001b[39m[\u001b[39m5\u001b[39m, \u001b[39m10\u001b[39m, \u001b[39m25\u001b[39m], seed\u001b[39m=\u001b[39m\u001b[39m1234\u001b[39m)\n\u001b[0;32m      3\u001b[0m parametros     \u001b[39m=\u001b[39m ProblemParameters(clients_vector\u001b[39m=\u001b[39mclientes, power_plants_vector\u001b[39m=\u001b[39mcentrales)\n\u001b[1;32m----> 4\u001b[0m estado_inicial \u001b[39m=\u001b[39m InitialState\u001b[39m.\u001b[39;49msimple_state2(parametros)\n\u001b[0;32m      5\u001b[0m problem        \u001b[39m=\u001b[39m EnergyProblem(estado_inicial)\n",
      "Cell \u001b[1;32mIn [67], line 60\u001b[0m, in \u001b[0;36mInitialState.simple_state2\u001b[1;34m(params, worst, invert)\u001b[0m\n\u001b[0;32m     58\u001b[0m     c_pp\u001b[39m.\u001b[39mappend(id_pp)\n\u001b[0;32m     59\u001b[0m \u001b[39melse\u001b[39;00m:\n\u001b[1;32m---> 60\u001b[0m     next_pp()\n\u001b[0;32m     61\u001b[0m     \u001b[39mcontinue\u001b[39;00m\n\u001b[0;32m     63\u001b[0m \u001b[39mif\u001b[39;00m worst:\n",
      "Cell \u001b[1;32mIn [67], line 47\u001b[0m, in \u001b[0;36mInitialState.simple_state2.<locals>.next_pp\u001b[1;34m()\u001b[0m\n\u001b[0;32m     45\u001b[0m cycle \u001b[39m+\u001b[39m\u001b[39m=\u001b[39m \u001b[39m1\u001b[39m\n\u001b[0;32m     46\u001b[0m \u001b[39mif\u001b[39;00m cycle \u001b[39m==\u001b[39m MAX_NUM_CYCLE:\n\u001b[1;32m---> 47\u001b[0m     \u001b[39mraise\u001b[39;00m \u001b[39mException\u001b[39;00m(\u001b[39m\"\u001b[39m\u001b[39mSorry, max number of cycles did it\u001b[39m\u001b[39m\"\u001b[39m)\n",
      "\u001b[1;31mException\u001b[0m: Sorry, max number of cycles did it"
     ]
    }
   ],
   "source": [
    "clientes       = Clientes(ncl=1000, propc=[0.25, 0.3, 0.45], propg=0.75, seed=1234)\n",
    "centrales      = Centrales(centrales_por_tipo=[5, 10, 25], seed=1234)\n",
    "parametros     = ProblemParameters(clients_vector=clientes, power_plants_vector=centrales)\n",
    "estado_inicial = InitialState.simple_state2(parametros)\n",
    "problem        = EnergyProblem(estado_inicial)\n"
   ]
  },
  {
   "cell_type": "code",
   "execution_count": null,
   "metadata": {},
   "outputs": [
    {
     "name": "stdout",
     "output_type": "stream",
     "text": [
      "Serviced clietns = 754 of 1000 \n",
      "Gains: 115090.0 \n",
      "\n",
      "Serviced clietns = 773 of 1000 \n",
      "Gains: 116285.0 \n",
      "\n",
      "Time taken: 382.8175446987152s\n"
     ]
    }
   ],
   "source": [
    "print(estado_inicial)\n",
    "\n",
    "start     = time.time()\n",
    "ejecucion = hill_climbing(problem)\n",
    "end       = time.time()\n",
    "\n",
    "print(ejecucion)\n",
    "\n",
    "print(f\"Time taken: {end - start}s\")"
   ]
  },
  {
   "cell_type": "markdown",
   "metadata": {},
   "source": [
    "<hr>"
   ]
  },
  {
   "cell_type": "markdown",
   "metadata": {},
   "source": [
    "### Analizing problems"
   ]
  },
  {
   "cell_type": "markdown",
   "metadata": {},
   "source": [
    "Hemos añadido codigo en la clase EnergyProblem que cronometra el tiempo de cada ejecución de las funciones que tenemos y cuenta cuantas veces se ejecuta."
   ]
  },
  {
   "cell_type": "code",
   "execution_count": null,
   "metadata": {},
   "outputs": [
    {
     "name": "stdout",
     "output_type": "stream",
     "text": [
      "Generate actions: 0.0s, 27 times\n",
      "Apply action: 18.241452932357788s, 2086887 times\n",
      "Heuristic: 0.5562362670898438s, 2086941 times\n"
     ]
    }
   ],
   "source": [
    "print(f\"Generate actions: {problem.times[0]}s, {problem.iterations[0]} times\")\n",
    "print(f\"Apply action: {problem.times[1]}s, {problem.iterations[1]} times\")\n",
    "print(f\"Heuristic: {problem.times[2]}s, {problem.iterations[2]} times\")"
   ]
  },
  {
   "cell_type": "markdown",
   "metadata": {},
   "source": [
    "Tenemos que reducir el tiempo de ejecución de <i style=\"color: #ffa530\">apply_actions()</i> ya que dura demasiado."
   ]
  },
  {
   "cell_type": "code",
   "execution_count": null,
   "metadata": {},
   "outputs": [
    {
     "name": "stdout",
     "output_type": "stream",
     "text": [
      "8.199999683711212e-06\n",
      "0.00010280000014972757\n",
      "5.880000026081689e-05\n",
      "3.099999958067201e-06\n"
     ]
    }
   ],
   "source": [
    "print(timeit.timeit(lambda: estado_inicial.generate_actions(), number=1))\n",
    "print(timeit.timeit(lambda: estado_inicial.apply_action(MoveClient(0, 1)), number=1))\n",
    "print(timeit.timeit(lambda: estado_inicial.apply_action(SwapClients(0, 1)), number=1))\n",
    "print(timeit.timeit(lambda: estado_inicial.gain_heuristic(), number=1))"
   ]
  }
 ],
 "metadata": {
  "kernelspec": {
   "display_name": "Python 3.8.10 64-bit",
   "language": "python",
   "name": "python3"
  },
  "language_info": {
   "codemirror_mode": {
    "name": "ipython",
    "version": 3
   },
   "file_extension": ".py",
   "mimetype": "text/x-python",
   "name": "python",
   "nbconvert_exporter": "python",
   "pygments_lexer": "ipython3",
   "version": "3.8.10"
  },
  "orig_nbformat": 4,
  "vscode": {
   "interpreter": {
    "hash": "cb66bb2af75ba0ef290e793252d0a1d0e39bc719684f07e601155879a70408e5"
   }
  }
 },
 "nbformat": 4,
 "nbformat_minor": 2
}
