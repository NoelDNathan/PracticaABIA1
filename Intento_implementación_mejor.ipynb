{
 "cells": [
  {
   "cell_type": "markdown",
   "metadata": {},
   "source": [
    "# ABIA Proyect 1: Hill Climbing"
   ]
  },
  {
   "cell_type": "markdown",
   "metadata": {},
   "source": [
    "<hr>\n",
    "<hr>"
   ]
  },
  {
   "cell_type": "markdown",
   "metadata": {},
   "source": [
    "## Imports"
   ]
  },
  {
   "cell_type": "code",
   "execution_count": 66,
   "metadata": {},
   "outputs": [],
   "source": [
    "import time\n",
    "import timeit\n",
    "import random\n",
    "import numpy as np\n",
    "from tkinter import Y\n",
    "from math import trunc, log\n",
    "from typing import List, Generator, Set\n",
    "from search import Problem, hill_climbing"
   ]
  },
  {
   "cell_type": "markdown",
   "metadata": {},
   "source": [
    "<hr>\n",
    "<hr>"
   ]
  },
  {
   "cell_type": "markdown",
   "metadata": {},
   "source": [
    "## File: abia_energia.py"
   ]
  },
  {
   "cell_type": "markdown",
   "metadata": {},
   "source": [
    "### Constants"
   ]
  },
  {
   "cell_type": "code",
   "execution_count": 3,
   "metadata": {},
   "outputs": [],
   "source": [
    "# Tipos de cliente\n",
    "CLIENTE_XG = 0\n",
    "CLIENTE_MG = 1\n",
    "CLIENTE_G = 2\n",
    "\n",
    "# Tipos de central\n",
    "CENTRAL_A = 0\n",
    "CENTRAL_B = 1\n",
    "CENTRAL_C = 2\n",
    "\n",
    "# Prioridades\n",
    "GARANTIZADO = 0\n",
    "NOGARANTIZADO = 1\n",
    "\n",
    "# Producción por tipo de central\n",
    "PROD = [[500.0, 250.0], [150.0, 100.0], [90.0, 10.0]]\n",
    "\n",
    "# Consumo por tipo de cliente\n",
    "CONSUMOS = [[15.0, 5.0], [3.0, 2.0], [2, 1]]\n",
    "\n",
    "# Tabla de precios por tipo de cliente\n",
    "# Primera dimensión: tipo de cliente\n",
    "# Segunda dimensión, por orden: garantizado, no garantizado, indemnización\n",
    "PRECIOS = [[40.0, 30.0, 5.0], [50.0, 40.0, 5.0], [60.0, 50.0, 5.0]]\n",
    "\n",
    "# Tabla de costes\n",
    "# Primera dimensión: tipo de central\n",
    "# Segunda dimensión, por orden: coste por producción, coste diario, coste parada\n",
    "COSTES = [[5, 2000, 1500], [8, 1000, 500], [15, 500, 150]]\n",
    "\n",
    "# Tabla de pérdidas\n",
    "# En cada posición, el primer valor es la distancia máxima del rango, el segundo valor es el tanto por uno de pérdida.\n",
    "PERDIDA = [[10, 0], [25, 0.1], [50, 0.2], [75, 0.4], [1000, 0.6]]\n",
    "TIPO = [0, 1, 2]\n",
    "TIPOCL = [0, 1, 2]\n",
    "TIPOCNT = [0, 1]"
   ]
  },
  {
   "cell_type": "markdown",
   "metadata": {},
   "source": [
    "<hr>"
   ]
  },
  {
   "cell_type": "markdown",
   "metadata": {},
   "source": [
    "### Class Central"
   ]
  },
  {
   "cell_type": "code",
   "execution_count": 4,
   "metadata": {},
   "outputs": [],
   "source": [
    "class Central(object):\n",
    "\n",
    "    def __init__(self, tipo: int, produccion: float, cx: int, cy: int):\n",
    "        self.Tipo = tipo\n",
    "        self.Produccion = produccion\n",
    "        self.CoordX = cx\n",
    "        self.CoordY = cy\n",
    "\n",
    "    def __repr__(self) -> str:\n",
    "        return f\"[Tipo={self.Tipo}|Produccion={self.Produccion}|cx={self.CoordX}|cy={self.CoordY}]\""
   ]
  },
  {
   "cell_type": "markdown",
   "metadata": {},
   "source": [
    "### Class Centrals"
   ]
  },
  {
   "cell_type": "code",
   "execution_count": 5,
   "metadata": {},
   "outputs": [],
   "source": [
    "class Centrales(list):\n",
    "    \n",
    "    def __init__(self, centrales_por_tipo: List[int], seed: int):\n",
    "        if len(centrales_por_tipo) != 3:\n",
    "            raise Exception(\"Vector Centrales de tamaño incorrecto\")\n",
    "        v_centrales = []\n",
    "        rand = random.Random(seed)\n",
    "        for i in range(3):\n",
    "            for j in range(centrales_por_tipo[i]):\n",
    "                p = (rand.random() * PROD[i][0]) + PROD[i][1]\n",
    "                c = Central(TIPO[i], trunc(p), rand.randint(\n",
    "                    0, 100), rand.randint(0, 100))\n",
    "                v_centrales.append(c)\n",
    "        super().__init__(v_centrales)"
   ]
  },
  {
   "cell_type": "markdown",
   "metadata": {},
   "source": [
    "<hr>"
   ]
  },
  {
   "cell_type": "markdown",
   "metadata": {},
   "source": [
    "### Class Client"
   ]
  },
  {
   "cell_type": "code",
   "execution_count": 6,
   "metadata": {},
   "outputs": [],
   "source": [
    "class Cliente(object):\n",
    "    \n",
    "    def __init__(self, t: int, cons: float, cont: int, cx: int, cy: int):\n",
    "        self.Tipo = t\n",
    "        self.Consumo = cons\n",
    "        self.Contrato = cont\n",
    "        self.CoordX = cx\n",
    "        self.CoordY = cy\n",
    "\n",
    "    def __repr__(self) -> str:\n",
    "        return f\"[Tipo={self.Tipo}|Consumo={self.Consumo}|Contrato={self.Contrato}|CoordX={self.CoordX}|CoordY={self.CoordY}]\""
   ]
  },
  {
   "cell_type": "markdown",
   "metadata": {},
   "source": [
    "### Class Clients"
   ]
  },
  {
   "cell_type": "code",
   "execution_count": 7,
   "metadata": {},
   "outputs": [],
   "source": [
    "class Clientes(list):\n",
    "\n",
    "    def __init__(self, ncl: int, propc: List[float], propg: float, seed: int):\n",
    "        if len(propc) != 3:\n",
    "            raise Exception(\n",
    "                \"Vector proporciones tipos clientes de tamaño incorrecto\")\n",
    "        if (propc[0] + propc[1] + propc[2]) != 1.0:\n",
    "            raise Exception(\"Vector proporciones tipos clientes no suma 1\")\n",
    "        if 0.0 > propg > 1.0:\n",
    "            raise Exception(\"Proporcion garantizado fuera de limites\")\n",
    "\n",
    "        v_clientes = []\n",
    "        rand = random.Random(seed + 1)\n",
    "\n",
    "        for i in range(ncl):\n",
    "            dice = rand.random()\n",
    "            if dice < propc[0]:\n",
    "                rd = 0\n",
    "            elif dice < (propc[0] + propc[1]):\n",
    "                rd = 1\n",
    "            else:\n",
    "                rd = 2\n",
    "\n",
    "            dice = rand.random()\n",
    "            if dice < propg:\n",
    "                rc = 0\n",
    "            else:\n",
    "                rc = 1\n",
    "\n",
    "            c = (rand.random() * CONSUMOS[rd][0]) + CONSUMOS[rd][1]\n",
    "            v_clientes.append(\n",
    "                Cliente(TIPOCL[rd], trunc(c), TIPOCNT[rc], rand.randint(0, 100), rand.randint(0, 100)))\n",
    "        super().__init__(v_clientes)"
   ]
  },
  {
   "cell_type": "markdown",
   "metadata": {},
   "source": [
    "<hr>"
   ]
  },
  {
   "cell_type": "markdown",
   "metadata": {},
   "source": [
    "### Static Class VEnergia"
   ]
  },
  {
   "cell_type": "code",
   "execution_count": 8,
   "metadata": {},
   "outputs": [],
   "source": [
    "class VEnergia(object):\n",
    "\n",
    "    @staticmethod\n",
    "    def tarifa_cliente_garantizada(tipo: int) -> float:\n",
    "        \n",
    "        \"\"\" Retorna la tarifa de un cliente con servicio garantizado. \"\"\"\n",
    "\n",
    "        if tipo < 0 or tipo > 2:\n",
    "            raise Exception(\"Tipo fuera de rango\")\n",
    "        else:\n",
    "            return PRECIOS[tipo][0]\n",
    "\n",
    "    @staticmethod\n",
    "    def tarifa_cliente_no_garantizada(tipo: int) -> float:\n",
    "        \n",
    "        \"\"\" Retorna la tarifa de un cliente con servicio no garantizado. \"\"\"\n",
    "        \n",
    "        if tipo < 0 or tipo > 2:\n",
    "            raise Exception(\"Tipo fuera de rango\")\n",
    "        else:\n",
    "            return PRECIOS[tipo][1]\n",
    "\n",
    "    @staticmethod\n",
    "    def tarifa_cliente_penalizacion(tipo: int) -> float:\n",
    "        \n",
    "        \"\"\" Retorna la penalización por servir a un cliente con servicio no garantizado. \"\"\"\n",
    "        \n",
    "        if tipo < 0 or tipo > 2:\n",
    "            raise Exception(\"Tipo fuera de rango\")\n",
    "        else:\n",
    "            return PRECIOS[tipo][2]\n",
    "\n",
    "    @staticmethod\n",
    "    def prices_production_mw(tipo: int) -> float:\n",
    "        \n",
    "        \"\"\" Retorna el coste de producción por MW para una central de un tipo. \"\"\"\n",
    "        \n",
    "        if tipo < 0 or tipo > 2:\n",
    "            raise Exception(\"Tipo fuera de rango\")\n",
    "        else:\n",
    "            return COSTES[tipo][0]\n",
    "\n",
    "    @staticmethod\n",
    "    def daily_cost(tipo: int) -> float:\n",
    "        \n",
    "        \"\"\" Retorna el coste de una central en marcha segun su tipo. \"\"\"\n",
    "        \n",
    "        if tipo < 0 or tipo > 2:\n",
    "            raise Exception(\"Tipo fuera de rango\")\n",
    "        else:\n",
    "            return COSTES[tipo][1]\n",
    "\n",
    "    @staticmethod\n",
    "    def stop_cost(tipo: int) -> float:\n",
    "        \n",
    "        \"\"\" Retorna el coste de una central en parada segun su tipo. \"\"\"\n",
    "        \n",
    "        if tipo < 0 or tipo > 2:\n",
    "            raise Exception(\"Tipo fuera de rango\")\n",
    "        else:\n",
    "            return COSTES[tipo][2]\n",
    "\n",
    "    @staticmethod\n",
    "    def loss(distancia: float) -> float:\n",
    "        \n",
    "        \"\"\" Retorna la perdida (en tanto por uno) segun la distancia entre central y cliente. \"\"\"\n",
    "        \n",
    "        i = 0\n",
    "        while distancia > PERDIDA[i][0]:\n",
    "            i = i + 1\n",
    "        return PERDIDA[i][1]"
   ]
  },
  {
   "cell_type": "markdown",
   "metadata": {},
   "source": [
    "<hr>\n",
    "<hr>"
   ]
  },
  {
   "cell_type": "markdown",
   "metadata": {},
   "source": [
    "## File: abia_energy_problem.py"
   ]
  },
  {
   "cell_type": "markdown",
   "metadata": {},
   "source": [
    "### Class Problem Parameters"
   ]
  },
  {
   "cell_type": "markdown",
   "metadata": {},
   "source": [
    "Esta clase es la misma desde que se crea, por tanto, ¿podríamos evitarnos pasarla por cada copia? "
   ]
  },
  {
   "cell_type": "code",
   "execution_count": 9,
   "metadata": {},
   "outputs": [],
   "source": [
    "class ProblemParameters(object):\n",
    "    def __init__(self, clients_vector: Clientes, power_plants_vector: Centrales) -> None:\n",
    "        self.clients_vector = clients_vector\n",
    "        self.power_plants_vector = power_plants_vector\n",
    "\n",
    "    def __repr__(self):\n",
    "        return f\"clients_vector={self.clients_vector}\\n\\npower_plants_vector={self.power_plants_vector})\""
   ]
  },
  {
   "cell_type": "markdown",
   "metadata": {},
   "source": [
    "<hr>"
   ]
  },
  {
   "cell_type": "markdown",
   "metadata": {},
   "source": [
    "### Operators"
   ]
  },
  {
   "cell_type": "code",
   "execution_count": 10,
   "metadata": {},
   "outputs": [],
   "source": [
    "class Operator(object):\n",
    "    pass\n",
    "\n",
    "class MoveClient(Operator):\n",
    "    def __init__(self, id_client, id_destination_PwP):\n",
    "        self.id_client = id_client\n",
    "        self.id_destination_PwP = id_destination_PwP\n",
    "\n",
    "    def __repr__(self) -> str:\n",
    "        return f\"Client {self.id_client} has been moved to power plant {self.id_destination_PwP}\"\n",
    "\n",
    "class SwapClients(Operator):\n",
    "    def __init__(self, id_client1, id_client2):\n",
    "        self.id_client1 = id_client1\n",
    "        self.id_client2 = id_client2\n",
    "\n",
    "    def __repr__(self) -> str:\n",
    "        return f\"Swap between Client {self.id_client1} and Client {self.id_client2}\"\n",
    "\n",
    "class RemoveNGClient(Operator):\n",
    "    def __init__(self, id_client: int):\n",
    "        self.id_client = id_client\n",
    "\n",
    "    def __repr__(self) -> str:\n",
    "        return f\"Client {self.id_client} has been removed\""
   ]
  },
  {
   "cell_type": "markdown",
   "metadata": {},
   "source": [
    "<hr>"
   ]
  },
  {
   "cell_type": "markdown",
   "metadata": {},
   "source": [
    "### Our methods"
   ]
  },
  {
   "cell_type": "markdown",
   "metadata": {},
   "source": [
    "Se podria meter en VEnergia?"
   ]
  },
  {
   "cell_type": "code",
   "execution_count": 11,
   "metadata": {},
   "outputs": [],
   "source": [
    "def distance(obj1, obj2):\n",
    "    x = obj1.CoordX - obj2.CoordX\n",
    "    y = obj1.CoordY - obj2.CoordY\n",
    "    return (x**2 + y ** 2)**(1/2)\n",
    "\n",
    "def electry_supplied_to_client(client: Cliente, power_plant: Central) -> int:\n",
    "    dist = distance(client, power_plant)\n",
    "    return client.Consumo * (1 + VEnergia.loss(dist))"
   ]
  },
  {
   "cell_type": "markdown",
   "metadata": {},
   "source": [
    "<hr>"
   ]
  },
  {
   "cell_type": "markdown",
   "metadata": {},
   "source": [
    "### Class State Representation"
   ]
  },
  {
   "cell_type": "code",
   "execution_count": 12,
   "metadata": {},
   "outputs": [],
   "source": [
    "class StateRepresentation(object):\n",
    "    \n",
    "    def __init__(self, \n",
    "                 params: ProblemParameters, \n",
    "                 c_pp: List[int], \n",
    "                 remain: List[float], \n",
    "                 consum: List[List[float]], \n",
    "                 gain: float,\n",
    "                 entropy:float,\n",
    "                 prices: List[List[float]]) -> None:\n",
    "\n",
    "        self.params = params\n",
    "        self.c_pp   = c_pp\n",
    "        self.remain = remain\n",
    "        self.consum = consum\n",
    "        self.prices = prices\n",
    "        self.gain   = gain\n",
    "        self.entropy = entropy\n",
    "\n",
    "    def copy(self):\n",
    "        return StateRepresentation(self.params, \n",
    "                                   self.c_pp.copy(), \n",
    "                                   self.remain.copy(), \n",
    "                                   self.consum, \n",
    "                                   self.gain,\n",
    "                                   self.entropy,\n",
    "                                   self.prices)\n",
    "\n",
    "    def __repr__(self) -> str:\n",
    "        s_c = 0\n",
    "        for i in self.c_pp:\n",
    "            if i != -1: s_c += 1\n",
    "        return f\"Serviced clietns = {s_c} of {len(self.c_pp)} \\nGains: {self.heuristic()} \\n\"\n",
    "        \n",
    "    def generate_actions(self) -> Generator[Operator, None, None]:\n",
    "        num_c  = len(self.params.clients_vector)\n",
    "        num_pp = len(self.params.power_plants_vector)\n",
    "\n",
    "        for id_c1 in range(num_c):\n",
    "            for id_pp in range(num_pp):\n",
    "                if id_pp == self.c_pp[id_c1]:\n",
    "                    continue\n",
    "\n",
    "                c_consum = self.consum[id_pp][id_c1]\n",
    "                if c_consum < self.remain[id_pp]:\n",
    "                    yield MoveClient(id_c1, id_pp)\n",
    "\n",
    "            if id_c1 != num_c - 1:\n",
    "                for id_c2 in range(id_c1 + 1, num_c):\n",
    "                    id_pp1 = self.c_pp[id_c1]\n",
    "                    id_pp2 = self.c_pp[id_c2]\n",
    "\n",
    "                    if id_pp1 == id_pp2 or id_pp1 == -1 or id_pp2 == -1:\n",
    "                        continue\n",
    "\n",
    "                    consum_c1_pp1 = self.consum[id_pp1][id_c1]\n",
    "                    consum_c1_pp2 = self.consum[id_pp2][id_c1]\n",
    "                    consum_c2_pp1 = self.consum[id_pp1][id_c2]\n",
    "                    consum_c2_pp2 = self.consum[id_pp2][id_c2]\n",
    "\n",
    "                    remain_pp1 = self.remain[id_pp1]\n",
    "                    remain_pp2 = self.remain[id_pp2]\n",
    "\n",
    "                    if consum_c2_pp1 - consum_c1_pp1 < remain_pp1 and consum_c1_pp2 - consum_c2_pp2 < remain_pp2:\n",
    "                        yield SwapClients(id_c1, id_c2)\n",
    "\n",
    "    def apply_action(self, action: Operator):\n",
    "        new_state = self.copy()\n",
    "\n",
    "        if isinstance(action, MoveClient):\n",
    "            id_c   = action.id_client\n",
    "            id_pp1 = self.c_pp[id_c] \n",
    "            pp1    = self.params.power_plants_vector[id_pp1]\n",
    "            id_pp2 = action.id_destination_PwP\n",
    "            pp2    = self.params.power_plants_vector[id_pp2]\n",
    "\n",
    "            new_state.c_pp[id_c] = id_pp2\n",
    "\n",
    "            if id_pp1 != -1:\n",
    "                new_state.remain[id_pp1] += self.consum[id_pp1][id_c]\n",
    "                new_state.entropy \n",
    "                \n",
    "                if new_state.remain[id_pp1] == pp1.Produccion:\n",
    "                    new_state.gain += self.prices[1][id_pp1] - self.prices[0][id_pp1]\n",
    "    \n",
    "            else:\n",
    "                new_state.gain += self.prices[2][id_c]\n",
    "\n",
    "            if new_state.remain[id_pp2] == pp2.Produccion:\n",
    "                new_state.gain -= self.prices[1][id_pp2] + self.prices[0][id_pp2]\n",
    "\n",
    "            new_state.remain[id_pp2] -= self.consum[id_pp2][id_c]\n",
    "\n",
    "        elif isinstance(action, SwapClients):\n",
    "            id_c1  = action.id_client1\n",
    "            id_c2  = action.id_client2\n",
    "            id_pp1 = self.c_pp[id_c1]\n",
    "            id_pp2 = self.c_pp[id_c2]\n",
    "\n",
    "            new_state.c_pp[id_c1] = id_pp2\n",
    "            new_state.c_pp[id_c2] = id_pp1\n",
    "\n",
    "            new_state.remain[id_pp1] += self.consum[id_pp1][id_c1] - self.consum[id_pp1][id_c2]\n",
    "            new_state.remain[id_pp2] += self.consum[id_pp2][id_c2] - self.consum[id_pp2][id_c1]\n",
    "\n",
    "        return new_state\n",
    "\n",
    "    def heuristic(self) -> float:\n",
    "        return self.gain"
   ]
  },
  {
   "cell_type": "markdown",
   "metadata": {},
   "source": [
    "<hr>"
   ]
  },
  {
   "cell_type": "markdown",
   "metadata": {},
   "source": [
    "### Generation of the initial state"
   ]
  },
  {
   "cell_type": "code",
   "execution_count": 67,
   "metadata": {},
   "outputs": [],
   "source": [
    "class InitialState(object):\n",
    "\n",
    "    @staticmethod\n",
    "    def simple_state(params) -> StateRepresentation:\n",
    "        remain, consum = InitialState.remain_consum(params)\n",
    "        \n",
    "        c_pp  = []\n",
    "        pp    = list(range(len(params.power_plants_vector)))\n",
    "        id_pp = pp.pop()\n",
    "        for id_client, client in enumerate(params.clients_vector):\n",
    "            if client.Contrato == NOGARANTIZADO:\n",
    "                c_pp.append(-1)\n",
    "                continue\n",
    "\n",
    "            c_consum = consum[id_pp][id_client]\n",
    "            while True:\n",
    "                if c_consum < remain[id_pp]:\n",
    "                    c_pp.append(id_pp)\n",
    "                    remain[id_pp] -= c_consum\n",
    "                    break\n",
    "                id_pp = pp.pop()\n",
    "\n",
    "        c_pp = np.array(c_pp)\n",
    "        \n",
    "        gain, prices = InitialState.calculate_gain(params, c_pp, remain)\n",
    "        return StateRepresentation(params, c_pp, remain, consum, gain, prices)\n",
    "    \n",
    "    @staticmethod\n",
    "    def complex_state(params, worst=False) -> StateRepresentation:\n",
    "        remain, consum = InitialState.remain_consum(params)\n",
    "        \n",
    "        c_pp   = []\n",
    "        num_c  = len(params.clients_vector)\n",
    "        num_pp = len(params.power_plants_vector)\n",
    "        id_c   = 0\n",
    "        id_pp  = 0\n",
    "        cycle  = 0\n",
    "\n",
    "        MAX_NUM_CYCLE = 15\n",
    "        while id_c < num_c:\n",
    "            if params.clients_vector[id_c].Tipo == NOGARANTIZADO:\n",
    "                c_pp.append(-1)\n",
    "\n",
    "            elif remain[id_pp] > consum[id_pp][id_c]:\n",
    "                remain[id_pp] -= consum[id_pp][id_c]\n",
    "                c_pp.append(id_pp)\n",
    "            else:\n",
    "                id_pp += 1\n",
    "\n",
    "                if id_pp == num_pp:\n",
    "                    id_pp = 0\n",
    "                    cycle += 1\n",
    "                    if cycle == MAX_NUM_CYCLE:\n",
    "                        raise Exception(\"Sorry, max number of cycles did it\")\n",
    "                continue\n",
    "\n",
    "            if worst:\n",
    "                id_pp += 1\n",
    "                if id_pp == num_pp:\n",
    "                    id_pp = 0\n",
    "                    cycle += 1\n",
    "                    if cycle == MAX_NUM_CYCLE:\n",
    "                        raise Exception(\"Sorry, max number of cycles did it\")\n",
    "            id_c += 1\n",
    "\n",
    "        c_pp = np.array(c_pp)\n",
    "\n",
    "        gain, prices = InitialState.calculate_gain(params, c_pp, remain)\n",
    "\n",
    "        return StateRepresentation(params, c_pp, remain, consum, gain, prices)\n",
    "\n",
    "    @staticmethod\n",
    "    def remain_consum(params):\n",
    "        remain = []\n",
    "        consum = []\n",
    "\n",
    "        for pp in params.power_plants_vector:\n",
    "            remain.append(pp.Produccion)\n",
    "            row = []\n",
    "            for client in params.clients_vector:\n",
    "                c_consum = electry_supplied_to_client(client, pp)\n",
    "                row.append(c_consum)\n",
    "            consum.append(row)\n",
    "\n",
    "        remain = np.array(remain)\n",
    "        consum = np.array(consum)\n",
    "        return remain, consum\n",
    "\n",
    "    @staticmethod\n",
    "    def calculate_gain(params, c_pp, remain) -> float:\n",
    "        gain = 0\n",
    "        prices = [[], [], []]\n",
    "\n",
    "        for id_pp, pp in enumerate(params.power_plants_vector):\n",
    "            prices[0].append(VEnergia.stop_cost(pp.Tipo))\n",
    "            prices[1].append(VEnergia.daily_cost(pp.Tipo) + VEnergia.prices_production_mw(pp.Tipo) * pp.Produccion)\n",
    "\n",
    "            if pp.Produccion == remain[id_pp]: \n",
    "                gain -= prices[0][id_pp]\n",
    "            else:\n",
    "                gain -= prices[1][id_pp]\n",
    "\n",
    "        for id_c, c in enumerate(params.clients_vector):\n",
    "            if c.Contrato == 0:   \n",
    "                gain += c.Consumo * VEnergia.tarifa_cliente_garantizada(c.Tipo)\n",
    "            else:                 \n",
    "                gain += c.Consumo * VEnergia.tarifa_cliente_no_garantizada(c.Tipo)\n",
    "\n",
    "            prices[2].append(c.Consumo * VEnergia.tarifa_cliente_penalizacion(c.Tipo))\n",
    "            if c_pp[id_c] == -1:  gain -= prices[2][id_c]\n",
    "\n",
    "        return gain, prices\n",
    "\n",
    "    @staticmethod\n",
    "    def calculate_entropy(params: ProblemParameters, remaining_energies):\n",
    "        total_entropy = 0\n",
    "        for id, remain in enumerate(remaining_energies):\n",
    "            max_prod = params.power_plants_vector[id].Produccion\n",
    "            occupancy = 1 - (remain/max_prod)\n",
    "            if occupancy > 0:\n",
    "                total_entropy = total_entropy - (occupancy * log(occupancy))\n",
    "        return -total_entropy\n",
    "        "
   ]
  },
  {
   "cell_type": "markdown",
   "metadata": {},
   "source": [
    "<hr>"
   ]
  },
  {
   "cell_type": "markdown",
   "metadata": {},
   "source": [
    "### Class of the Problem"
   ]
  },
  {
   "cell_type": "code",
   "execution_count": 63,
   "metadata": {},
   "outputs": [],
   "source": [
    "class EnergyProblem(Problem):\n",
    "    def __init__(self, initial_state: StateRepresentation):\n",
    "        self.times = [0, 0, 0]\n",
    "        self.iterations = [0, 0, 0]\n",
    "        super().__init__(initial_state)\n",
    "\n",
    "    def actions(self, state: StateRepresentation) -> Generator[Operator, None, None]:\n",
    "        print(calculate_entropy(state.params, state.remain))\n",
    "        print(state.heuristic())\n",
    "        print(state.remain)\n",
    "        print(sum(state.remain))\n",
    "        start   = time.time()\n",
    "        actions = state.generate_actions()\n",
    "        end     = time.time()\n",
    "        self.times[0] += end - start\n",
    "        self.iterations[0] += 1\n",
    "        return actions\n",
    "\n",
    "    def result(self, state: StateRepresentation, action: Operator) -> StateRepresentation:\n",
    "        start   = time.time()\n",
    "        result  = state.apply_action(action)\n",
    "        end     = time.time()\n",
    "        self.times[1] += end - start\n",
    "        self.iterations[1] += 1\n",
    "        return result\n",
    "\n",
    "    def value(self, state: StateRepresentation) -> float:\n",
    "        start   = time.time()\n",
    "        value   = state.gain\n",
    "        end     = time.time()\n",
    "        self.times[2] += end - start\n",
    "        self.iterations[2] += 1\n",
    "        return value\n",
    "\n",
    "    def goal_test(self, state: StateRepresentation) -> bool:\n",
    "        return False"
   ]
  },
  {
   "cell_type": "markdown",
   "metadata": {},
   "source": [
    "<hr>\n",
    "<hr>"
   ]
  },
  {
   "cell_type": "markdown",
   "metadata": {},
   "source": [
    "## Execution of the program"
   ]
  },
  {
   "cell_type": "code",
   "execution_count": 64,
   "metadata": {},
   "outputs": [],
   "source": [
    "clientes       = Clientes(ncl=1000, propc=[0.25, 0.3, 0.45], propg=0.75, seed=1234)\n",
    "centrales      = Centrales(centrales_por_tipo=[4, 20, 25], seed=1234)\n",
    "parametros     = ProblemParameters(clients_vector=clientes, power_plants_vector=centrales)\n",
    "estado_inicial = InitialState.simple_state(parametros)\n",
    "problem        = EnergyProblem(estado_inicial)\n"
   ]
  },
  {
   "cell_type": "code",
   "execution_count": 65,
   "metadata": {},
   "outputs": [
    {
     "name": "stdout",
     "output_type": "stream",
     "text": [
      "Serviced clietns = 754 of 1000 \n",
      "Gains: 104927.0 \n",
      "\n",
      "-1.9620374675120003\n",
      "104927.0\n",
      "[733 253 585  27   2   1   6   9  10   1   3   2  14   4   0   1  11  13\n",
      "   1   0   1   1   8   4   0  25   3  14   4   1   1  10   1   4  10   0\n",
      "   0   2   1   0   2   1  16  14  24   1   2   1   1]\n",
      "1828\n",
      "-1.6928397905104033\n",
      "105022.0\n",
      "[733 253 585  27   2   1   6   9  10   1   3   2  14   4   0   1  11  13\n",
      "   1   0   1   1   8   4   0  25   3  14   4   1   1  10   1   4  10   0\n",
      "   0   2   1   0   2   1  16  14   1   1   2   1   1]\n",
      "1805\n",
      "-1.657407769661657\n",
      "105117.0\n",
      "[733 253 585   4   2   1   6   9  10   1   3   2  14   4   0   1  11  13\n",
      "   1   0   1   1   8   4   0  25   3  14   4   1   1  10   1   4  10   0\n",
      "   0   2   1   0   2   1  16  14   1   1   2   1   1]\n",
      "1782\n",
      "-1.5375936035174618\n",
      "105177.0\n",
      "[733 253 585   4   2   1   6   9  10   1   3   2   0   4   0   1  11  13\n",
      "   1   0   1   1   8   4   0  25   3  14   4   1   1  10   1   4  10   0\n",
      "   0   2   1   0   2   1  16  14   1   1   2   1   1]\n",
      "1768\n",
      "-1.3872645689188847\n",
      "105232.0\n",
      "[733 253 585   4   2   1   6   9  10   1   3   2   0   4   0   1  11  13\n",
      "   1   0   1   1   8   4   0  25   3   0   4   1   1  10   1   4  10   0\n",
      "   0   2   1   0   2   1  16  14   1   1   2   1   1]\n",
      "1754\n",
      "-1.3177109592950373\n",
      "105287.0\n",
      "[733 253 585   4   2   1   6   9  10   1   3   2   0   4   0   1  11   2\n",
      "   1   0   1   1   8   4   0  25   3   0   4   1   1  10   1   4  10   0\n",
      "   0   2   1   0   2   1  16  14   1   1   2   1   1]\n",
      "1743\n",
      "-1.211914410261955\n",
      "105327.0\n",
      "[733 253 585   4   2   1   6   9  10   1   3   2   0   4   0   1  11   2\n",
      "   1   0   1   1   8   4   0  25   3   0   4   1   1   0   1   4  10   0\n",
      "   0   2   1   0   2   1  16  14   1   1   2   1   1]\n",
      "1733\n",
      "-1.1436207841582908\n",
      "105367.0\n",
      "[733 253 585   4   2   1   6   0  10   1   3   2   0   4   0   1  11   2\n",
      "   1   0   1   1   8   4   0  25   3   0   4   1   1   0   1   4  10   0\n",
      "   0   2   1   0   2   1  16  14   1   1   2   1   1]\n",
      "1724\n",
      "-0.9552910289362514\n",
      "105402.0\n",
      "[733 253 585   4   2   1   6   0  10   1   3   2   0   4   0   1  11   2\n",
      "   1   0   1   1   8   4   0  25   3   0   4   1   1   0   1   4   0   0\n",
      "   0   2   1   0   2   1  16  14   1   1   2   1   1]\n",
      "1714\n",
      "-0.888760269366668\n",
      "105437.0\n",
      "[733 253 585   4   2   1   6   0  10   1   3   2   0   4   0   1  11   2\n",
      "   1   0   1   1   0   4   0  25   3   0   4   1   1   0   1   4   0   0\n",
      "   0   2   1   0   2   1  16  14   1   1   2   1   1]\n",
      "1706\n",
      "-0.8332820836307592\n",
      "105472.0\n",
      "[733 253 585   4   2   1   6   0   0   1   3   2   0   4   0   1  11   2\n",
      "   1   0   1   1   0   4   0  25   3   0   4   1   1   0   1   4   0   0\n",
      "   0   2   1   0   2   1  16  14   1   1   2   1   1]\n",
      "1696\n",
      "-0.7928375557683675\n",
      "105502.0\n",
      "[733 253 585   4   2   1   6   0   0   1   3   2   0   4   0   1   1   2\n",
      "   1   0   1   1   0   4   0  25   3   0   4   1   1   0   1   4   0   0\n",
      "   0   2   1   0   2   1  16  14   1   1   2   1   1]\n",
      "1686\n",
      "-0.7620810042761178\n",
      "105522.0\n",
      "[733 253 585   4   2   1   0   0   0   1   3   2   0   4   0   1   1   2\n",
      "   1   0   1   1   0   4   0  25   3   0   4   1   1   0   1   4   0   0\n",
      "   0   2   1   0   2   1  16  14   1   1   2   1   1]\n",
      "1680\n",
      "-0.6516429369637596\n",
      "105537.0\n",
      "[733 253 585   4   2   1   0   0   0   1   3   2   0   4   0   1   1   2\n",
      "   1   0   1   1   0   4   0  25   3   0   4   1   1   0   1   0   0   0\n",
      "   0   2   1   0   2   1  16  14   1   1   2   1   1]\n",
      "1676\n",
      "-0.564997318959828\n",
      "105552.0\n",
      "[733 253 585   4   2   1   0   0   0   1   3   2   0   4   0   1   1   2\n",
      "   1   0   1   1   0   4   0  25   3   0   0   1   1   0   1   0   0   0\n",
      "   0   2   1   0   2   1  16  14   1   1   2   1   1]\n",
      "1672\n",
      "-0.5451986657886588\n",
      "105567.0\n",
      "[733 253 585   4   2   1   0   0   0   1   3   2   0   4   0   1   1   2\n",
      "   1   0   1   1   0   0   0  25   3   0   0   1   1   0   1   0   0   0\n",
      "   0   2   1   0   2   1  16  14   1   1   2   1   1]\n",
      "1668\n",
      "-0.5277336928250187\n",
      "105582.0\n",
      "[733 253 585   4   2   1   0   0   0   1   3   2   0   0   0   1   1   2\n",
      "   1   0   1   1   0   0   0  25   3   0   0   1   1   0   1   0   0   0\n",
      "   0   2   1   0   2   1  16  14   1   1   2   1   1]\n",
      "1664\n",
      "-0.5214345852987791\n",
      "105597.0\n",
      "[733 253 585   0   2   1   0   0   0   1   3   2   0   0   0   1   1   2\n",
      "   1   0   1   1   0   0   0  25   3   0   0   1   1   0   1   0   0   0\n",
      "   0   2   1   0   2   1  16  14   1   1   2   1   1]\n",
      "1660\n",
      "-0.4903595859436417\n",
      "105607.0\n",
      "[733 253 585   0   2   1   0   0   0   1   3   2   0   0   0   1   1   2\n",
      "   1   0   1   1   0   0   0  25   0   0   0   1   1   0   1   0   0   0\n",
      "   0   2   1   0   2   1  16  14   1   1   2   1   1]\n",
      "1657\n",
      "-0.4746954273004668\n",
      "105617.0\n",
      "[733 253 585   0   2   1   0   0   0   1   0   2   0   0   0   1   1   2\n",
      "   1   0   1   1   0   0   0  25   0   0   0   1   1   0   1   0   0   0\n",
      "   0   2   1   0   2   1  16  14   1   1   2   1   1]\n",
      "1654\n",
      "-0.3506746961452166\n",
      "105622.0\n",
      "[733 253 585   0   2   1   0   0   0   1   0   2   0   0   0   1   1   2\n",
      "   1   0   1   1   0   0   0  25   0   0   0   1   1   0   1   0   0   0\n",
      "   0   2   1   0   2   1  16  14   1   1   0   1   1]\n",
      "1652\n",
      "-0.32127398394825574\n",
      "105627.0\n",
      "[733 253 585   0   2   1   0   0   0   1   0   2   0   0   0   1   1   2\n",
      "   1   0   1   1   0   0   0  25   0   0   0   1   1   0   1   0   0   0\n",
      "   0   0   1   0   2   1  16  14   1   1   0   1   1]\n",
      "1650\n",
      "-0.2982907074080661\n",
      "105632.0\n",
      "[733 253 585   0   2   1   0   0   0   1   0   2   0   0   0   1   1   2\n",
      "   1   0   1   1   0   0   0  25   0   0   0   1   1   0   1   0   0   0\n",
      "   0   0   1   0   0   1  16  14   1   1   0   1   1]\n",
      "1648\n",
      "-0.27924604627898564\n",
      "105637.0\n",
      "[733 253 585   0   0   1   0   0   0   1   0   2   0   0   0   1   1   2\n",
      "   1   0   1   1   0   0   0  25   0   0   0   1   1   0   1   0   0   0\n",
      "   0   0   1   0   0   1  16  14   1   1   0   1   1]\n",
      "1646\n",
      "-0.26600199955127357\n",
      "105642.0\n",
      "[733 253 585   0   0   1   0   0   0   1   0   2   0   0   0   1   1   0\n",
      "   1   0   1   1   0   0   0  25   0   0   0   1   1   0   1   0   0   0\n",
      "   0   0   1   0   0   1  16  14   1   1   0   1   1]\n",
      "1644\n",
      "-0.25530732985678073\n",
      "105647.0\n",
      "[733 253 585   0   0   1   0   0   0   1   0   0   0   0   0   1   1   0\n",
      "   1   0   1   1   0   0   0  25   0   0   0   1   1   0   1   0   0   0\n",
      "   0   0   1   0   0   1  16  14   1   1   0   1   1]\n",
      "1642\n",
      "Serviced clietns = 779 of 1000 \n",
      "Gains: 105647.0 \n",
      "\n",
      "Time taken: 19.21075177192688s\n"
     ]
    }
   ],
   "source": [
    "print(estado_inicial)\n",
    "\n",
    "start     = time.time()\n",
    "ejecucion = hill_climbing(problem)\n",
    "end       = time.time()\n",
    "\n",
    "print(ejecucion)\n",
    "\n",
    "print(f\"Time taken: {end - start}s\")"
   ]
  },
  {
   "cell_type": "markdown",
   "metadata": {},
   "source": [
    "<hr>"
   ]
  },
  {
   "cell_type": "markdown",
   "metadata": {},
   "source": [
    "### Analizing problems"
   ]
  },
  {
   "cell_type": "markdown",
   "metadata": {},
   "source": [
    "Hemos añadido codigo en la clase EnergyProblem que cronometra el tiempo de cada ejecución de las funciones que tenemos y cuenta cuantas veces se ejecuta."
   ]
  },
  {
   "cell_type": "code",
   "execution_count": null,
   "metadata": {},
   "outputs": [
    {
     "name": "stdout",
     "output_type": "stream",
     "text": [
      "Generate actions: 0.0s, 63 times\n",
      "Apply action: 70.42881631851196s, 6580307 times\n",
      "Heuristic: 1.9241681098937988s, 6580433 times\n"
     ]
    }
   ],
   "source": [
    "print(f\"Generate actions: {problem.times[0]}s, {problem.iterations[0]} times\")\n",
    "print(f\"Apply action: {problem.times[1]}s, {problem.iterations[1]} times\")\n",
    "print(f\"Heuristic: {problem.times[2]}s, {problem.iterations[2]} times\")"
   ]
  },
  {
   "cell_type": "markdown",
   "metadata": {},
   "source": [
    "Tenemos que reducir el tiempo de ejecución de <i style=\"color: #ffa530\">apply_actions()</i> ya que dura demasiado."
   ]
  },
  {
   "cell_type": "code",
   "execution_count": null,
   "metadata": {},
   "outputs": [
    {
     "name": "stdout",
     "output_type": "stream",
     "text": [
      "4.499976057559252e-06\n",
      "5.879998207092285e-05\n",
      "3.1400006264448166e-05\n",
      "2.2999593056738377e-06\n"
     ]
    }
   ],
   "source": [
    "print(timeit.timeit(lambda: estado_inicial.generate_actions(), number=1))\n",
    "print(timeit.timeit(lambda: estado_inicial.apply_action(MoveClient(0, 1)), number=1))\n",
    "print(timeit.timeit(lambda: estado_inicial.apply_action(SwapClients(0, 1)), number=1))\n",
    "print(timeit.timeit(lambda: estado_inicial.heuristic(), number=1))"
   ]
  }
 ],
 "metadata": {
  "kernelspec": {
   "display_name": "Python 3.10.7 64-bit",
   "language": "python",
   "name": "python3"
  },
  "language_info": {
   "codemirror_mode": {
    "name": "ipython",
    "version": 3
   },
   "file_extension": ".py",
   "mimetype": "text/x-python",
   "name": "python",
   "nbconvert_exporter": "python",
   "pygments_lexer": "ipython3",
   "version": "3.10.7"
  },
  "orig_nbformat": 4,
  "vscode": {
   "interpreter": {
    "hash": "b494ecfbe5dcebf52d33ca2e0f780f8afe10afbd7e0a0a94a598161503ebb59a"
   }
  }
 },
 "nbformat": 4,
 "nbformat_minor": 2
}
