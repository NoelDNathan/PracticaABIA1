{
 "cells": [
  {
   "cell_type": "markdown",
   "metadata": {},
   "source": [
    "# Practica 1 ABIA"
   ]
  },
  {
   "cell_type": "markdown",
   "metadata": {},
   "source": [
    "<pre>\n",
    "Este archivo contiene lo mismo que los otros archivos .py. Sirve para poder realizar la ejecución a trozos y así poder entenderlo mejor y \n",
    "hacer diferentes pruebas más fácilmente.\n",
    "</pre>"
   ]
  },
  {
   "cell_type": "markdown",
   "metadata": {},
   "source": [
    "<hr>\n",
    "<hr>"
   ]
  },
  {
   "cell_type": "markdown",
   "metadata": {},
   "source": [
    "### Imports"
   ]
  },
  {
   "cell_type": "code",
   "execution_count": 49,
   "metadata": {},
   "outputs": [],
   "source": [
    "import random\n",
    "from math import trunc\n",
    "from tkinter import Y\n",
    "from typing import List, Generator, Set\n",
    "from search import Problem, hill_climbing"
   ]
  },
  {
   "cell_type": "markdown",
   "metadata": {},
   "source": [
    "<hr>\n",
    "<hr>"
   ]
  },
  {
   "cell_type": "markdown",
   "metadata": {},
   "source": [
    "## abia_energy.py"
   ]
  },
  {
   "cell_type": "markdown",
   "metadata": {},
   "source": [
    "### Constantes\n",
    "\n",
    "<pre>Constantes comunes en todos los escenarios.</pre>"
   ]
  },
  {
   "cell_type": "code",
   "execution_count": 50,
   "metadata": {},
   "outputs": [],
   "source": [
    "# Tipos de cliente\n",
    "CLIENTE_XG = 0\n",
    "CLIENTE_MG = 1\n",
    "CLIENTE_G = 2\n",
    "\n",
    "# Tipos de central\n",
    "CENTRAL_A = 0\n",
    "CENTRAL_B = 1\n",
    "CENTRAL_C = 2\n",
    "\n",
    "# Prioridades\n",
    "GARANTIZADO = 0\n",
    "NOGARANTIZADO = 1\n",
    "\n",
    "# Producción por tipo de central\n",
    "PROD = [[500.0, 250.0], [150.0, 100.0], [90.0, 10.0]]\n",
    "\n",
    "# Consumo por tipo de cliente\n",
    "CONSUMOS = [[15.0, 5.0], [3.0, 2.0], [2, 1]]\n",
    "\n",
    "# Tabla de precios por tipo de cliente\n",
    "# Primera dimensión: tipo de cliente\n",
    "# Segunda dimensión, por orden: garantizado, no garantizado, indemnización\n",
    "PRECIOS = [[40.0, 30.0, 5.0], [50.0, 40.0, 5.0], [60.0, 50.0, 5.0]]\n",
    "\n",
    "# Tabla de costes\n",
    "# Primera dimensión: tipo de central\n",
    "# Segunda dimensión, por orden: coste por producción, coste diario, coste parada\n",
    "COSTES = [[5, 2000, 1500], [8, 1000, 500], [15, 500, 150]]\n",
    "\n",
    "# Tabla de pérdidas\n",
    "# En cada posición, el primer valor es la distancia máxima del rango, el segundo valor es el tanto por uno de pérdida.\n",
    "PERDIDA = [[10, 0], [25, 0.1], [50, 0.2], [75, 0.4], [1000, 0.6]]\n",
    "TIPO = [0, 1, 2]\n",
    "TIPOCL = [0, 1, 2]\n",
    "TIPOCNT = [0, 1]"
   ]
  },
  {
   "cell_type": "markdown",
   "metadata": {},
   "source": [
    "<hr>"
   ]
  },
  {
   "cell_type": "markdown",
   "metadata": {},
   "source": [
    "### Clase Centrales\n",
    "\n",
    "<pre>\n",
    "Usamos esta clase para obtener una lista con las centrales generadas. \n",
    "\n",
    "\n",
    "Valores de entrada:\n",
    "<ul>\n",
    "<li>centrales_por_tipo: Una lista de 3 posiciones, con la cantidad de centrales de cada tipo que deseamos.</li>\n",
    "<li>seed:               La semilla con la cual generaremos estas centrales, para así poder replicar este mismo experimento.</li></ul></pre>"
   ]
  },
  {
   "cell_type": "code",
   "execution_count": 51,
   "metadata": {},
   "outputs": [],
   "source": [
    "class Centrales(list):\n",
    "    \n",
    "    def __init__(self, centrales_por_tipo: List[int], seed: int):\n",
    "        if len(centrales_por_tipo) != 3:\n",
    "            raise Exception(\"Vector Centrales de tamaño incorrecto\")\n",
    "        v_centrales = []\n",
    "        rand = random.Random(seed)\n",
    "        for i in range(3):\n",
    "            for j in range(centrales_por_tipo[i]):\n",
    "                p = (rand.random() * PROD[i][0]) + PROD[i][1]\n",
    "                c = Central(TIPO[i], trunc(p), rand.randint(\n",
    "                    0, 100), rand.randint(0, 100))\n",
    "                v_centrales.append(c)\n",
    "        super().__init__(v_centrales)"
   ]
  },
  {
   "cell_type": "code",
   "execution_count": 52,
   "metadata": {},
   "outputs": [
    {
     "data": {
      "text/plain": [
       "[[Tipo=0|Produccion=269|cx=89|cy=97],\n",
       " [Tipo=0|Produccion=321|cx=59|cy=47],\n",
       " [Tipo=1|Produccion=200|cx=12|cy=58],\n",
       " [Tipo=1|Produccion=189|cx=77|cy=2],\n",
       " [Tipo=2|Produccion=56|cx=73|cy=47],\n",
       " [Tipo=2|Produccion=66|cx=70|cy=96]]"
      ]
     },
     "execution_count": 52,
     "metadata": {},
     "output_type": "execute_result"
    }
   ],
   "source": [
    "Centrales([2, 2, 2], 43)"
   ]
  },
  {
   "cell_type": "markdown",
   "metadata": {},
   "source": [
    "### Clase Central\n",
    "\n",
    "<pre>\n",
    "Usamos esta clase para generar cierto tipo de central.\n",
    "\n",
    "\n",
    "Valores de entrada:\n",
    "<ul>\n",
    "<li>tipo:           El tipo de la central, un número del 0 al 2.</li>\n",
    "<li>produccion:     Producción aleatoria dentro del rango del tipo de la central.</li>\n",
    "<li>cx:             Coordenadas de la central en la posición X.</li>\n",
    "<li>cy:             Coordenadas de la central en la posición Y.<li></ul></pre>"
   ]
  },
  {
   "cell_type": "code",
   "execution_count": 53,
   "metadata": {},
   "outputs": [],
   "source": [
    "class Central(object):\n",
    "\n",
    "    def __init__(self, tipo: int, produccion: float, cx: int, cy: int):\n",
    "        self.Tipo = tipo  # Tipo de central\n",
    "        self.Produccion = produccion  # Producción en MW\n",
    "        self.CoordX = cx  # Coordenada x\n",
    "        self.CoordY = cy  # Coordenada y\n",
    "\n",
    "    def __repr__(self) -> str:\n",
    "        return f\"[Tipo={self.Tipo}|Produccion={self.Produccion}|cx={self.CoordX}|cy={self.CoordY}]\"\n"
   ]
  },
  {
   "cell_type": "code",
   "execution_count": 54,
   "metadata": {},
   "outputs": [
    {
     "data": {
      "text/plain": [
       "[Tipo=1|Produccion=256|cx=23|cy=33]"
      ]
     },
     "execution_count": 54,
     "metadata": {},
     "output_type": "execute_result"
    }
   ],
   "source": [
    "Central(1, 256, 23, 33)"
   ]
  },
  {
   "cell_type": "markdown",
   "metadata": {},
   "source": [
    "<hr>"
   ]
  },
  {
   "cell_type": "markdown",
   "metadata": {},
   "source": [
    "### Clase Clientes\n",
    "\n",
    "<pre>\n",
    "Usamos esta clase para obtener una lista con los clientes generados. \n",
    "\n",
    "\n",
    "Valores de entrada:\n",
    "<ul>\n",
    "<li>ncl:    Número de clientes que deseemos.</li>\n",
    "<li>propc:  Lista de 3 posiciones con la proporción de los 3 tipos de clientes.</li>\n",
    "<li>propg:  Proporción de clientes garantizados.</li>\n",
    "<li>seed:   La semilla con la cual generaremos estas centrales, para así poder replicar este mismo experimento.</li></ul></pre>"
   ]
  },
  {
   "cell_type": "code",
   "execution_count": 55,
   "metadata": {},
   "outputs": [],
   "source": [
    "class Clientes(list):\n",
    "\n",
    "    def __init__(self, ncl: int, propc: List[float], propg: float, seed: int):\n",
    "        if len(propc) != 3:\n",
    "            raise Exception(\n",
    "                \"Vector proporciones tipos clientes de tamaño incorrecto\")\n",
    "        if (propc[0] + propc[1] + propc[2]) != 1.0:\n",
    "            raise Exception(\"Vector proporciones tipos clientes no suma 1\")\n",
    "        if 0.0 > propg > 1.0:\n",
    "            raise Exception(\"Proporcion garantizado fuera de limites\")\n",
    "\n",
    "        v_clientes = []\n",
    "        rand = random.Random(seed + 1)\n",
    "\n",
    "        for i in range(ncl):\n",
    "            dice = rand.random()\n",
    "            if dice < propc[0]:\n",
    "                rd = 0\n",
    "            elif dice < (propc[0] + propc[1]):\n",
    "                rd = 1\n",
    "            else:\n",
    "                rd = 2\n",
    "\n",
    "            dice = rand.random()\n",
    "            if dice < propg:\n",
    "                rc = 0\n",
    "            else:\n",
    "                rc = 1\n",
    "\n",
    "            c = (rand.random() * CONSUMOS[rd][0]) + CONSUMOS[rd][1]\n",
    "            v_clientes.append(\n",
    "                Cliente(TIPOCL[rd], trunc(c), TIPOCNT[rc], rand.randint(0, 100), rand.randint(0, 100)))\n",
    "        super().__init__(v_clientes)"
   ]
  },
  {
   "cell_type": "code",
   "execution_count": 56,
   "metadata": {},
   "outputs": [
    {
     "data": {
      "text/plain": [
       "[[Tipo=0|Consumo=17|Contrato=1|CoordX=22|CoordY=48],\n",
       " [Tipo=0|Consumo=6|Contrato=0|CoordX=1|CoordY=12],\n",
       " [Tipo=0|Consumo=19|Contrato=1|CoordX=88|CoordY=81],\n",
       " [Tipo=0|Consumo=15|Contrato=0|CoordX=41|CoordY=45],\n",
       " [Tipo=0|Consumo=14|Contrato=1|CoordX=14|CoordY=65],\n",
       " [Tipo=0|Consumo=19|Contrato=0|CoordX=13|CoordY=80],\n",
       " [Tipo=2|Consumo=1|Contrato=0|CoordX=12|CoordY=61],\n",
       " [Tipo=0|Consumo=6|Contrato=0|CoordX=95|CoordY=31],\n",
       " [Tipo=2|Consumo=2|Contrato=0|CoordX=87|CoordY=55],\n",
       " [Tipo=1|Consumo=4|Contrato=1|CoordX=83|CoordY=42]]"
      ]
     },
     "execution_count": 56,
     "metadata": {},
     "output_type": "execute_result"
    }
   ],
   "source": [
    "Clientes(10, [0.5, 0.25, 0.25], 0.5, 43)"
   ]
  },
  {
   "cell_type": "markdown",
   "metadata": {},
   "source": [
    "### Clase Cliente\n",
    "\n",
    "<pre>\n",
    "Usamos esta clase para guardar cierto tipo de cliente.\n",
    "\n",
    "\n",
    "Valores de entrada:\n",
    "<ul>\n",
    "<li>t:      Tipo de cliente, número del 0 al 2.</li>\n",
    "<li>cons:   Consumo del tipo de cliente, también aleatorio dentro del rango de dicho tipo.</li>\n",
    "<li>cont:   Tipo de contrato del cliente.</li>\n",
    "<li>cx:     Coordenadas de la central en la posición X.</li>\n",
    "<li>cy:     Coordenadas de la central en la posición Y.</li></ul></pre>"
   ]
  },
  {
   "cell_type": "code",
   "execution_count": 57,
   "metadata": {},
   "outputs": [],
   "source": [
    "class Cliente(object):\n",
    "    \n",
    "    def __init__(self, t: int, cons: float, cont: int, cx: int, cy: int):\n",
    "        self.Tipo = t  # Tipo del cliente\n",
    "        self.Consumo = cons  # Consumo demandado\n",
    "        self.Contrato = cont  # Tipo de contrato\n",
    "        self.CoordX = cx  # Coordenada x\n",
    "        self.CoordY = cy  # Coordenada y\n",
    "\n",
    "    def __repr__(self) -> str:\n",
    "        return f\"[Tipo={self.Tipo}|Consumo={self.Consumo}|Contrato={self.Contrato}|CoordX={self.CoordX}|CoordY={self.CoordY}]\"\n"
   ]
  },
  {
   "cell_type": "code",
   "execution_count": 58,
   "metadata": {},
   "outputs": [
    {
     "data": {
      "text/plain": [
       "[Tipo=2|Consumo=250|Contrato=0|CoordX=22|CoordY=44]"
      ]
     },
     "execution_count": 58,
     "metadata": {},
     "output_type": "execute_result"
    }
   ],
   "source": [
    "Cliente(2, 250, 0, 22, 44)"
   ]
  },
  {
   "cell_type": "markdown",
   "metadata": {},
   "source": [
    "<hr>"
   ]
  },
  {
   "cell_type": "markdown",
   "metadata": {},
   "source": [
    "### Clase VEnergia\n",
    "\n",
    "<pre>\n",
    "Clase estática que permite acceder a los valores de los costes de las centrales y las tarifas y penalizaciones de los clientes.\n",
    "</pre>"
   ]
  },
  {
   "cell_type": "code",
   "execution_count": 59,
   "metadata": {},
   "outputs": [],
   "source": [
    "class VEnergia(object):\n",
    "\n",
    "    @staticmethod\n",
    "    def tarifa_cliente_garantizada(tipo: int) -> float:\n",
    "        \n",
    "        \"\"\" Retorna la tarifa de un cliente con servicio garantizado. \"\"\"\n",
    "\n",
    "        if tipo < 0 or tipo > 2:\n",
    "            raise Exception(\"Tipo fuera de rango\")\n",
    "        else:\n",
    "            return PRECIOS[tipo][0]\n",
    "\n",
    "    @staticmethod\n",
    "    def tarifa_cliente_no_garantizada(tipo: int) -> float:\n",
    "        \n",
    "        \"\"\" Retorna la tarifa de un cliente con servicio no garantizado. \"\"\"\n",
    "        \n",
    "        if tipo < 0 or tipo > 2:\n",
    "            raise Exception(\"Tipo fuera de rango\")\n",
    "        else:\n",
    "            return PRECIOS[tipo][1]\n",
    "\n",
    "    @staticmethod\n",
    "    def tarifa_cliente_penalizacion(tipo: int) -> float:\n",
    "        \n",
    "        \"\"\" Retorna la penalización por servir a un cliente con servicio no garantizado. \"\"\"\n",
    "        \n",
    "        if tipo < 0 or tipo > 2:\n",
    "            raise Exception(\"Tipo fuera de rango\")\n",
    "        else:\n",
    "            return PRECIOS[tipo][2]\n",
    "\n",
    "    @staticmethod\n",
    "    def costs_production_mw(tipo: int) -> float:\n",
    "        \n",
    "        \"\"\" Retorna el coste de producción por MW para una central de un tipo. \"\"\"\n",
    "        \n",
    "        if tipo < 0 or tipo > 2:\n",
    "            raise Exception(\"Tipo fuera de rango\")\n",
    "        else:\n",
    "            return COSTES[tipo][0]\n",
    "\n",
    "    @staticmethod\n",
    "    def daily_cost(tipo: int) -> float:\n",
    "        \n",
    "        \"\"\" Retorna el coste de una central en marcha segun su tipo. \"\"\"\n",
    "        \n",
    "        if tipo < 0 or tipo > 2:\n",
    "            raise Exception(\"Tipo fuera de rango\")\n",
    "        else:\n",
    "            return COSTES[tipo][1]\n",
    "\n",
    "    @staticmethod\n",
    "    def stop_cost(tipo: int) -> float:\n",
    "        \n",
    "        \"\"\" Retorna el coste de una central en parada segun su tipo. \"\"\"\n",
    "        \n",
    "        if tipo < 0 or tipo > 2:\n",
    "            raise Exception(\"Tipo fuera de rango\")\n",
    "        else:\n",
    "            return COSTES[tipo][2]\n",
    "\n",
    "    @staticmethod\n",
    "    def loss(distancia: float) -> float:\n",
    "        \n",
    "        \"\"\" Retorna la perdida (en tanto por uno) segun la distancia entre central y cliente. \"\"\"\n",
    "        \n",
    "        i = 0\n",
    "        while distancia > PERDIDA[i][0]:\n",
    "            i = i + 1\n",
    "        return PERDIDA[i][1]"
   ]
  },
  {
   "cell_type": "markdown",
   "metadata": {},
   "source": [
    "<hr>\n",
    "<hr>"
   ]
  },
  {
   "cell_type": "markdown",
   "metadata": {},
   "source": [
    "## abia_energy_problem.py"
   ]
  },
  {
   "cell_type": "markdown",
   "metadata": {},
   "source": [
    "### Parámetros del problema\n",
    "\n",
    "<pre>\n",
    "En este caso nuestros parametros son la lista de CLIENTES y la lista de CENTRALES.\n",
    "</pre>"
   ]
  },
  {
   "cell_type": "code",
   "execution_count": 60,
   "metadata": {},
   "outputs": [],
   "source": [
    "class ProblemParameters(object):\n",
    "    def __init__(self, clients_vector: Clientes, power_plants_vector: Centrales) -> None:\n",
    "        self.clients_vector = clients_vector\n",
    "        self.power_plants_vector = power_plants_vector\n",
    "\n",
    "    def __repr__(self):\n",
    "        return f\"clients_vector={self.clients_vector}\\n\\npower_plants_vector={self.power_plants_vector})\"\n"
   ]
  },
  {
   "cell_type": "code",
   "execution_count": 61,
   "metadata": {},
   "outputs": [
    {
     "data": {
      "text/plain": [
       "clients_vector=[[Tipo=0|Consumo=17|Contrato=1|CoordX=22|CoordY=48], [Tipo=0|Consumo=6|Contrato=0|CoordX=1|CoordY=12], [Tipo=0|Consumo=19|Contrato=1|CoordX=88|CoordY=81], [Tipo=0|Consumo=15|Contrato=0|CoordX=41|CoordY=45], [Tipo=0|Consumo=14|Contrato=1|CoordX=14|CoordY=65], [Tipo=0|Consumo=19|Contrato=0|CoordX=13|CoordY=80], [Tipo=2|Consumo=1|Contrato=0|CoordX=12|CoordY=61], [Tipo=0|Consumo=6|Contrato=0|CoordX=95|CoordY=31], [Tipo=2|Consumo=2|Contrato=0|CoordX=87|CoordY=55], [Tipo=1|Consumo=4|Contrato=1|CoordX=83|CoordY=42]]\n",
       "\n",
       "power_plants_vector=[[Tipo=0|Produccion=269|cx=89|cy=97], [Tipo=1|Produccion=121|cx=59|cy=47], [Tipo=2|Produccion=70|cx=12|cy=58]])"
      ]
     },
     "execution_count": 61,
     "metadata": {},
     "output_type": "execute_result"
    }
   ],
   "source": [
    "clientes = Clientes(ncl=10, propc=[0.5, 0.25, 0.25], propg=0.5, seed=43)\n",
    "centrales = Centrales(centrales_por_tipo=[1, 1, 1], seed=43)\n",
    "problem_parameters = ProblemParameters(clients_vector=clientes, power_plants_vector=centrales)\n",
    "problem_parameters"
   ]
  },
  {
   "cell_type": "markdown",
   "metadata": {},
   "source": [
    "<hr>"
   ]
  },
  {
   "cell_type": "markdown",
   "metadata": {},
   "source": [
    "### Operadores"
   ]
  },
  {
   "cell_type": "code",
   "execution_count": 62,
   "metadata": {},
   "outputs": [],
   "source": [
    "class Operator(object):\n",
    "    pass"
   ]
  },
  {
   "cell_type": "markdown",
   "metadata": {},
   "source": [
    "<pre>\n",
    "Tenemos 3 operadores:\n",
    "\n",
    "<b><i>- MoveClient</i></b>\n",
    "\n",
    "    Nos sirve para mover a un cliente a una central.\n",
    "</pre>"
   ]
  },
  {
   "cell_type": "code",
   "execution_count": 63,
   "metadata": {},
   "outputs": [],
   "source": [
    "class MoveClient(Operator):\n",
    "    def __init__(self, id_client, id_destination_PwP):\n",
    "        self.id_client = id_client\n",
    "        self.id_destination_PwP = id_destination_PwP\n",
    "\n",
    "    def __repr__(self) -> str:\n",
    "        return f\"Client {self.id_client} has been moved to power plant {self.id_destination_PwP}\""
   ]
  },
  {
   "cell_type": "code",
   "execution_count": 64,
   "metadata": {},
   "outputs": [
    {
     "data": {
      "text/plain": [
       "Client 0 has been moved to power plant 0"
      ]
     },
     "execution_count": 64,
     "metadata": {},
     "output_type": "execute_result"
    }
   ],
   "source": [
    "MoveClient(0, 0)  # El cliente de la posición 0 del vector se ha movido a la central de posición 0 del vector."
   ]
  },
  {
   "cell_type": "markdown",
   "metadata": {},
   "source": [
    "<pre>\n",
    "<b><i>- SwapClient</i></b>\n",
    "\n",
    "    Nos sirve para intercambiar dos clientes entre dos centrales.\n",
    "</pre>"
   ]
  },
  {
   "cell_type": "code",
   "execution_count": 65,
   "metadata": {},
   "outputs": [],
   "source": [
    "class SwapClients(Operator):\n",
    "    def __init__(self, id_client1, id_client2):\n",
    "        self.id_client1 = id_client1\n",
    "        self.id_client2 = id_client2\n",
    "\n",
    "    def __repr__(self) -> str:\n",
    "        return f\"Swap between Client {self.id_client1} and Client {self.id_client2}\""
   ]
  },
  {
   "cell_type": "code",
   "execution_count": 66,
   "metadata": {},
   "outputs": [
    {
     "data": {
      "text/plain": [
       "Swap between Client 0 and Client 1"
      ]
     },
     "execution_count": 66,
     "metadata": {},
     "output_type": "execute_result"
    }
   ],
   "source": [
    "SwapClients(0, 1)  # El cliente de la posición 0 del vector se intercambia con el cliente de la posición 1."
   ]
  },
  {
   "cell_type": "markdown",
   "metadata": {},
   "source": [
    "<pre>\n",
    "<b><i>- RemoveNGClient</i></b>\n",
    "\n",
    "    Nos sirve para eliminar a un cliente NO GARANTIZADO de una central.\n",
    "</pre>"
   ]
  },
  {
   "cell_type": "code",
   "execution_count": 67,
   "metadata": {},
   "outputs": [],
   "source": [
    "class RemoveNGClient(Operator):\n",
    "    def __init__(self, p_i: int, p_j: int):\n",
    "        pass\n",
    "\n",
    "    def __repr__(self) -> str:\n",
    "        pass"
   ]
  },
  {
   "cell_type": "markdown",
   "metadata": {},
   "source": [
    "<hr>"
   ]
  },
  {
   "cell_type": "markdown",
   "metadata": {},
   "source": [
    "### Nuestros métodos\n",
    "\n",
    "<pre>\n",
    "Funciones propias que nos sirven para poder realizar el problema.\n",
    "</pre>"
   ]
  },
  {
   "cell_type": "code",
   "execution_count": 68,
   "metadata": {},
   "outputs": [],
   "source": [
    "def distance(obj1, obj2):\n",
    "    x = obj1.CoordX - obj2.CoordX\n",
    "    y = obj1.CoordY - obj2.CoordY\n",
    "    return (x**2 + y ** 2)**(1/2)\n",
    "\n",
    "def electry_supplied_to_client(client: Cliente, power_plant: Central) -> int:\n",
    "    dist = distance(client, power_plant)\n",
    "    return client.Consumo * (1 + VEnergia.loss(dist))"
   ]
  },
  {
   "cell_type": "code",
   "execution_count": 69,
   "metadata": {},
   "outputs": [
    {
     "name": "stdout",
     "output_type": "stream",
     "text": [
      "[Tipo=0|Consumo=17|Contrato=1|CoordX=22|CoordY=48]\n",
      "[Tipo=0|Produccion=269|cx=89|cy=97]\n",
      "27.200000000000003\n"
     ]
    }
   ],
   "source": [
    "print(problem_parameters.clients_vector[0])\n",
    "print(problem_parameters.power_plants_vector[0])\n",
    "print(electry_supplied_to_client(problem_parameters.clients_vector[0], problem_parameters.power_plants_vector[0]))"
   ]
  },
  {
   "cell_type": "markdown",
   "metadata": {},
   "source": [
    "<hr>"
   ]
  },
  {
   "cell_type": "markdown",
   "metadata": {},
   "source": [
    "### Representación del estado\n",
    "\n",
    "<pre>\n",
    "Nuestra representación del estado del problema, con las diversas funciones ......\n",
    "</pre>"
   ]
  },
  {
   "cell_type": "code",
   "execution_count": 70,
   "metadata": {},
   "outputs": [],
   "source": [
    "class StateRepresentation(object):\n",
    "    def __init__(self, params: ProblemParameters, client_power_plant: List[int], remaining_energies: List[float], real_consumption: List[List[float]]):\n",
    "        self.params = params\n",
    "        self.client_power_plant = client_power_plant\n",
    "        self.remaining_energies = remaining_energies\n",
    "        self.real_consumption = real_consumption\n",
    "\n",
    "    def copy(self):\n",
    "        return StateRepresentation(self.params, self.client_power_plant.copy(), self.remaining_energies.copy(), self.real_consumption.copy())\n",
    "\n",
    "    def __repr__(self) -> str:\n",
    "        return f\"client_power_plant: {self.client_power_plant}\"\n",
    "\n",
    "    def generate_actions(self) -> Generator[Operator, None, None]:\n",
    "        for id_client1 in range(len(self.params.clients_vector)):\n",
    "            for id_PwP in range(len(self.params.power_plants_vector)):\n",
    "                if self.client_power_plant[id_client1] == id_PwP:\n",
    "                    continue\n",
    "\n",
    "                csm_client = self.real_consumption[id_PwP][id_client1]\n",
    "\n",
    "                if csm_client < self.remaining_energies[id_PwP]:\n",
    "                    yield MoveClient(id_client1, id_PwP)\n",
    "\n",
    "            for id_client2 in range(len(self.params.clients_vector)):\n",
    "                if id_client1 == id_client2:\n",
    "                    continue\n",
    "\n",
    "                id_PwP1 = self.client_power_plant[id_client1]\n",
    "                id_PwP2 = self.client_power_plant[id_client2]\n",
    "\n",
    "                if id_PwP1 == id_PwP2:\n",
    "                    continue\n",
    "\n",
    "                if id_PwP1 == -1 or id_PwP2 == -1:\n",
    "                    continue\n",
    "\n",
    "                csm_pwp1_cli1 = self.real_consumption[id_PwP1][id_client1]\n",
    "                csm_pwp2_cli1 = self.real_consumption[id_PwP2][id_client1]\n",
    "\n",
    "                csm_pwp1_cli2 = self.real_consumption[id_PwP1][id_client2]\n",
    "                csm_pwp2_cli2 = self.real_consumption[id_PwP2][id_client2]\n",
    "\n",
    "                remain1 = self.remaining_energies[id_PwP1]\n",
    "                remain2 = self.remaining_energies[id_PwP2]\n",
    "\n",
    "                if (csm_pwp1_cli2 - csm_pwp1_cli1 < remain1 and csm_pwp2_cli1 - csm_pwp2_cli2 < remain2):\n",
    "                    yield SwapClients(id_client1, id_client2)\n",
    "\n",
    "    def apply_actions(self, action: Operator):  # -> StateRepresentation:\n",
    "        new_state = self.copy()\n",
    "\n",
    "        if isinstance(action, MoveClient):\n",
    "            id_client = action.id_client\n",
    "            id_PwP1 = self.client_power_plant[id_client]\n",
    "            id_PwP2 = action.id_destination_PwP\n",
    "            new_state.client_power_plant[id_client] = id_PwP2 = action.id_destination_PwP\n",
    "\n",
    "            if id_PwP1 != -1:\n",
    "                new_state.remaining_energies[id_PwP1] += self.real_consumption[id_PwP1][id_client]\n",
    "\n",
    "            new_state.remaining_energies[id_PwP2] -= self.real_consumption[id_PwP2][id_client]\n",
    "\n",
    "        elif isinstance(action, SwapClients):\n",
    "            id_client1 = action.id_client1\n",
    "            id_client2 = action.id_client2\n",
    "\n",
    "            id_PwP1 = self.client_power_plant[id_client1]\n",
    "            id_PwP2 = self.client_power_plant[id_client2]\n",
    "\n",
    "            new_state.client_power_plant[id_client1] = id_PwP2\n",
    "            new_state.client_power_plant[id_client2] = id_PwP1\n",
    "\n",
    "            new_state.remaining_energies[id_PwP1] += self.real_consumption[id_PwP1][id_client1] - self.real_consumption[id_PwP1][id_client2]\n",
    "            new_state.remaining_energies[id_PwP2] += self.real_consumption[id_PwP2][id_client2] - self.real_consumption[id_PwP2][id_client1]\n",
    "\n",
    "        return new_state\n",
    "\n",
    "    def heuristic(self) -> float:\n",
    "        gain = 0\n",
    "\n",
    "        for id_central, central in enumerate(self.params.power_plants_vector):\n",
    "            if central.Produccion == self.remaining_energies[id_central]:\n",
    "                gain -= VEnergia.stop_cost(central.Tipo)\n",
    "            else:\n",
    "                gain -= VEnergia.costs_production_mw(\n",
    "                    central.Tipo) * central.Produccion + VEnergia.daily_cost(central.Tipo)\n",
    "\n",
    "        for id_client, client in enumerate(self.params.clients_vector):\n",
    "            if self.client_power_plant[id_client] == -1:\n",
    "                gain -= VEnergia.tarifa_cliente_penalizacion(\n",
    "                    client.Tipo) * client.Consumo\n",
    "                continue\n",
    "\n",
    "            if client.Contrato == 0:\n",
    "                gain += VEnergia.tarifa_cliente_garantizada(\n",
    "                    client.Tipo) * client.Consumo\n",
    "            else:\n",
    "                gain += VEnergia.tarifa_cliente_no_garantizada(\n",
    "                    client.Tipo) * client.Consumo\n",
    "\n",
    "        return gain"
   ]
  },
  {
   "cell_type": "markdown",
   "metadata": {},
   "source": [
    "<hr>"
   ]
  },
  {
   "cell_type": "markdown",
   "metadata": {},
   "source": [
    "### Generación del estado inicial\n",
    "\n",
    "<pre>\n",
    "Diferentes funciones para crear diferentes casos de estado inicial.\n",
    "\n",
    "<b><i>- generate_simple_initial_state</i></b>\n",
    "\n",
    "    Generación de un estado inicial simple en el que metemos todos los clientes GARANTIZADOS posibles en orden en una central hasta que\n",
    "    no quepan más por falta de producción, entonces metemos en la siguiente central. Pueden quedar centrales vacias. También nos guardamos \n",
    "    una lista con la energia no utilizada. \n",
    "</pre>"
   ]
  },
  {
   "cell_type": "code",
   "execution_count": 71,
   "metadata": {},
   "outputs": [],
   "source": [
    "def generate_simple_initial_state(params: ProblemParameters):\n",
    "    remaining_energies = list()\n",
    "    real_consumption = list()\n",
    "    client_power_plant = list()\n",
    "\n",
    "    ids_power_plants = list()\n",
    "\n",
    "    for id_PwP, power_plant in enumerate(params.power_plants_vector):\n",
    "        ids_power_plants.append(id_PwP)\n",
    "        remaining_energies.append(power_plant.Produccion)\n",
    "        row = list()\n",
    "\n",
    "        for client in params.clients_vector:\n",
    "            consumtion = electry_supplied_to_client(client, power_plant)\n",
    "            row.append(consumtion)\n",
    "        real_consumption.append(row)\n",
    "\n",
    "    id_PwP = ids_power_plants.pop()\n",
    "\n",
    "    for id_client, client in enumerate(params.clients_vector):\n",
    "        if client.Contrato == NOGARANTIZADO:\n",
    "            client_power_plant.append(-1)\n",
    "            continue\n",
    "\n",
    "        consum = real_consumption[id_PwP][id_client]\n",
    "        while True:\n",
    "            if consum < remaining_energies[id_PwP]:\n",
    "                client_power_plant.append(id_PwP)\n",
    "                remaining_energies[id_PwP] -= consum\n",
    "                break\n",
    "\n",
    "            id_PwP = ids_power_plants.pop()\n",
    "\n",
    "    return StateRepresentation(params, client_power_plant, remaining_energies, real_consumption)"
   ]
  },
  {
   "cell_type": "code",
   "execution_count": 72,
   "metadata": {},
   "outputs": [
    {
     "name": "stdout",
     "output_type": "stream",
     "text": [
      "client_power_plant: [2, 2, 1]\n"
     ]
    }
   ],
   "source": [
    "clientes = Clientes(ncl=3, propc=[1, 0, 0], propg=1, seed=44)\n",
    "centrales = Centrales(centrales_por_tipo=[1, 1, 1], seed=44)\n",
    "parametros = ProblemParameters(clients_vector=clientes, power_plants_vector=centrales)\n",
    "estado = generate_simple_initial_state(params=parametros)\n",
    "\n",
    "print(estado)"
   ]
  },
  {
   "cell_type": "markdown",
   "metadata": {},
   "source": [
    "<pre>\n",
    "<b><i>- generate_complex_initial_state</i></b>\n",
    "\n",
    "    Generación de un estado inicial más complejo con ...\n",
    "</pre>"
   ]
  },
  {
   "cell_type": "code",
   "execution_count": 73,
   "metadata": {},
   "outputs": [],
   "source": [
    "def generate_complex_initial_state():\n",
    "    pass"
   ]
  },
  {
   "cell_type": "markdown",
   "metadata": {},
   "source": [
    "<hr>"
   ]
  },
  {
   "cell_type": "markdown",
   "metadata": {},
   "source": [
    "### Resolver el problema creando una clase\n",
    "\n",
    "<pre>\n",
    "Con esta clase podremos llamar a la función hill_climbing para poder resolver el problema y obtener la solución.\n",
    "</pre>"
   ]
  },
  {
   "cell_type": "code",
   "execution_count": 74,
   "metadata": {},
   "outputs": [],
   "source": [
    "class EnergyProblem(Problem):\n",
    "    def __init__(self, initial_state: StateRepresentation):\n",
    "        super().__init__(initial_state)\n",
    "        \n",
    "    def actions(self, state: StateRepresentation) -> Generator[Operator,None,None]:\n",
    "        return state.generate_actions()\n",
    "    \n",
    "    def result(self, state: StateRepresentation, action: Operator) -> StateRepresentation:\n",
    "        return state.apply_actions(action)\n",
    "    \n",
    "    def value(self, state: StateRepresentation) -> float:\n",
    "        return state.heuristic()\n",
    "        \n",
    "    def goal_test(self, state: StateRepresentation) -> bool:\n",
    "        return False"
   ]
  },
  {
   "cell_type": "markdown",
   "metadata": {},
   "source": [
    "<hr>\n",
    "<hr>"
   ]
  },
  {
   "cell_type": "markdown",
   "metadata": {},
   "source": [
    "### Ejecución del programa y resolución del problema"
   ]
  },
  {
   "cell_type": "code",
   "execution_count": 75,
   "metadata": {},
   "outputs": [
    {
     "name": "stdout",
     "output_type": "stream",
     "text": [
      "\n",
      "------------------------------------------------\n",
      "15341.0\n"
     ]
    }
   ],
   "source": [
    "clientes = Clientes(ncl=100, propc=[0.4, 0.3, 0.3], propg=1, seed=44)\n",
    "centrales = Centrales(centrales_por_tipo=[2, 1, 1], seed=44)\n",
    "parametros = ProblemParameters(clients_vector=clientes, power_plants_vector=centrales)\n",
    "estado = generate_simple_initial_state(params=parametros)\n",
    "\n",
    "#print(estado)\n",
    "\n",
    "#print(\"\\n------------------------------------------------\")\n",
    "#print(list(estado.generate_actions()))\n",
    "\n",
    "print(\"\\n------------------------------------------------\")\n",
    "print(estado.heuristic())"
   ]
  },
  {
   "cell_type": "markdown",
   "metadata": {},
   "source": [
    "<pre>\n",
    "Ejecución del hill climbing para resolver el problema.\n",
    "</pre>"
   ]
  },
  {
   "cell_type": "code",
   "execution_count": 76,
   "metadata": {},
   "outputs": [
    {
     "name": "stdout",
     "output_type": "stream",
     "text": [
      "client_power_plant: [3, 3, 3, 2, 2, 2, 2, 2, 2, 2, 2, 2, 2, 2, 2, 2, 2, 1, 1, 1, 1, 1, 1, 1, 1, 1, 1, 1, 1, 1, 1, 1, 1, 1, 1, 1, 1, 1, 1, 1, 1, 1, 1, 1, 1, 1, 1, 1, 1, 1, 1, 1, 1, 1, 1, 1, 1, 1, 1, 1, 1, 1, 1, 1, 1, 1, 1, 1, 1, 1, 1, 1, 1, 1, 1, 1, 1, 1, 1, 1, 1, 1, 1, 1, 1, 1, 1, 1, 1, 1, 1, 1, 1, 1, 1, 1, 1, 1, 1, 1]\n"
     ]
    }
   ],
   "source": [
    "print(hill_climbing(EnergyProblem(estado)))"
   ]
  }
 ],
 "metadata": {
  "kernelspec": {
   "display_name": "Python 3.10.7 64-bit",
   "language": "python",
   "name": "python3"
  },
  "language_info": {
   "codemirror_mode": {
    "name": "ipython",
    "version": 3
   },
   "file_extension": ".py",
   "mimetype": "text/x-python",
   "name": "python",
   "nbconvert_exporter": "python",
   "pygments_lexer": "ipython3",
   "version": "3.10.7"
  },
  "orig_nbformat": 4,
  "vscode": {
   "interpreter": {
    "hash": "b494ecfbe5dcebf52d33ca2e0f780f8afe10afbd7e0a0a94a598161503ebb59a"
   }
  }
 },
 "nbformat": 4,
 "nbformat_minor": 2
}
