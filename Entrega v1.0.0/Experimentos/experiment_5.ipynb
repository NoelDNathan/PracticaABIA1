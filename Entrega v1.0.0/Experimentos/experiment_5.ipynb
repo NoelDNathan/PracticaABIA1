{
 "cells": [
  {
   "cell_type": "markdown",
   "metadata": {},
   "source": [
    "# Ejecución de los experimentos"
   ]
  },
  {
   "cell_type": "code",
   "execution_count": 1,
   "metadata": {},
   "outputs": [],
   "source": [
    "import time\n",
    "import random\n",
    "\n",
    "try:\n",
    "    from abia_energia import *\n",
    "    from problem_parameters import *\n",
    "    from initial_state import *\n",
    "    from energy_problem import *\n",
    "    from search import hill_climbing, simulated_annealing, exp_schedule\n",
    "\n",
    "except ImportError:\n",
    "    import sys\n",
    "    sys.path.append(sys.path[0] + '/..')\n",
    "    from abia_energia import *\n",
    "    from problem_parameters import *\n",
    "    from initial_state import *\n",
    "    from energy_problem import *\n",
    "    from search import hill_climbing, simulated_annealing, exp_schedule"
   ]
  },
  {
   "cell_type": "code",
   "execution_count": 16,
   "metadata": {},
   "outputs": [],
   "source": [
    "seeds = [random.randint(0, 10000) for i in range(10)]\n",
    "seeds =  [2521] #,8409,8924,1336,4758,1917,3969,9751,1210,1305]\n",
    "results = []\n"
   ]
  },
  {
   "cell_type": "markdown",
   "metadata": {},
   "source": [
    "724\n",
    "Ejecucion 0\n",
    "9297\n",
    "Ejecucion 1\n",
    "2574\n",
    "Ejecucion 2\n",
    "9568\n",
    "Ejecucion 3\n",
    "7428\n",
    "Ejecucion 4\n",
    "7425\n",
    "Ejecucion 5\n",
    "1155\n",
    "Ejecucion 6\n",
    "2901\n",
    "Ejecucion 7\n",
    "163\n",
    "Ejecucion 8\n",
    "5995\n",
    "Ejecucion 9"
   ]
  },
  {
   "cell_type": "code",
   "execution_count": 3,
   "metadata": {},
   "outputs": [
    {
     "ename": "KeyboardInterrupt",
     "evalue": "",
     "output_type": "error",
     "traceback": [
      "\u001b[1;31m---------------------------------------------------------------------------\u001b[0m",
      "\u001b[1;31mKeyboardInterrupt\u001b[0m                         Traceback (most recent call last)",
      "Cell \u001b[1;32mIn [3], line 9\u001b[0m\n\u001b[0;32m      6\u001b[0m problem        \u001b[39m=\u001b[39m EnergyProblem(estado_inicial, used_actions\u001b[39m=\u001b[39m[SUPER_MOVE_CLIENT], used_heuristic\u001b[39m=\u001b[39mFIX_STATE_HEURISTIC)\n\u001b[0;32m      8\u001b[0m start        \u001b[39m=\u001b[39m time\u001b[39m.\u001b[39mtime()\n\u001b[1;32m----> 9\u001b[0m estado_final \u001b[39m=\u001b[39m hill_climbing(problem)\n\u001b[0;32m     10\u001b[0m end          \u001b[39m=\u001b[39m time\u001b[39m.\u001b[39mtime()\n\u001b[0;32m     12\u001b[0m results\u001b[39m.\u001b[39mappend([estado_inicial, end \u001b[39m-\u001b[39m start, estado_final, seed])\n",
      "File \u001b[1;32md:\\Documentos\\VICTOR\\UNIVERSIDAD\\3r CUADRI\\ABIA\\Practica 1\\PracticaABIA1\\Entrega v1.0.0\\Experimentos/..\\search.py:643\u001b[0m, in \u001b[0;36mhill_climbing\u001b[1;34m(problem)\u001b[0m\n\u001b[0;32m    641\u001b[0m current \u001b[39m=\u001b[39m Node(problem\u001b[39m.\u001b[39minitial)\n\u001b[0;32m    642\u001b[0m \u001b[39mwhile\u001b[39;00m \u001b[39mTrue\u001b[39;00m:\n\u001b[1;32m--> 643\u001b[0m     neighbors \u001b[39m=\u001b[39m current\u001b[39m.\u001b[39;49mexpand(problem)\n\u001b[0;32m    644\u001b[0m     \u001b[39mif\u001b[39;00m \u001b[39mnot\u001b[39;00m neighbors:\n\u001b[0;32m    645\u001b[0m         \u001b[39mbreak\u001b[39;00m\n",
      "File \u001b[1;32md:\\Documentos\\VICTOR\\UNIVERSIDAD\\3r CUADRI\\ABIA\\Practica 1\\PracticaABIA1\\Entrega v1.0.0\\Experimentos/..\\search.py:96\u001b[0m, in \u001b[0;36mNode.expand\u001b[1;34m(self, problem)\u001b[0m\n\u001b[0;32m     94\u001b[0m \u001b[39mdef\u001b[39;00m \u001b[39mexpand\u001b[39m(\u001b[39mself\u001b[39m, problem):\n\u001b[0;32m     95\u001b[0m     \u001b[39m\"\"\"List the nodes reachable in one step from this node.\"\"\"\u001b[39;00m\n\u001b[1;32m---> 96\u001b[0m     \u001b[39mreturn\u001b[39;00m [\u001b[39mself\u001b[39m\u001b[39m.\u001b[39mchild_node(problem, action)\n\u001b[0;32m     97\u001b[0m             \u001b[39mfor\u001b[39;00m action \u001b[39min\u001b[39;00m problem\u001b[39m.\u001b[39mactions(\u001b[39mself\u001b[39m\u001b[39m.\u001b[39mstate)]\n",
      "File \u001b[1;32md:\\Documentos\\VICTOR\\UNIVERSIDAD\\3r CUADRI\\ABIA\\Practica 1\\PracticaABIA1\\Entrega v1.0.0\\Experimentos/..\\search.py:96\u001b[0m, in \u001b[0;36m<listcomp>\u001b[1;34m(.0)\u001b[0m\n\u001b[0;32m     94\u001b[0m \u001b[39mdef\u001b[39;00m \u001b[39mexpand\u001b[39m(\u001b[39mself\u001b[39m, problem):\n\u001b[0;32m     95\u001b[0m     \u001b[39m\"\"\"List the nodes reachable in one step from this node.\"\"\"\u001b[39;00m\n\u001b[1;32m---> 96\u001b[0m     \u001b[39mreturn\u001b[39;00m [\u001b[39mself\u001b[39;49m\u001b[39m.\u001b[39;49mchild_node(problem, action)\n\u001b[0;32m     97\u001b[0m             \u001b[39mfor\u001b[39;00m action \u001b[39min\u001b[39;00m problem\u001b[39m.\u001b[39mactions(\u001b[39mself\u001b[39m\u001b[39m.\u001b[39mstate)]\n",
      "File \u001b[1;32md:\\Documentos\\VICTOR\\UNIVERSIDAD\\3r CUADRI\\ABIA\\Practica 1\\PracticaABIA1\\Entrega v1.0.0\\Experimentos/..\\search.py:101\u001b[0m, in \u001b[0;36mNode.child_node\u001b[1;34m(self, problem, action)\u001b[0m\n\u001b[0;32m     99\u001b[0m \u001b[39mdef\u001b[39;00m \u001b[39mchild_node\u001b[39m(\u001b[39mself\u001b[39m, problem, action):\n\u001b[0;32m    100\u001b[0m     \u001b[39m\"\"\"[Figure 3.10]\"\"\"\u001b[39;00m\n\u001b[1;32m--> 101\u001b[0m     next_state \u001b[39m=\u001b[39m problem\u001b[39m.\u001b[39;49mresult(\u001b[39mself\u001b[39;49m\u001b[39m.\u001b[39;49mstate, action)\n\u001b[0;32m    102\u001b[0m     next_node \u001b[39m=\u001b[39m Node(next_state, \u001b[39mself\u001b[39m, action, problem\u001b[39m.\u001b[39mpath_cost(\u001b[39mself\u001b[39m\u001b[39m.\u001b[39mpath_cost, \u001b[39mself\u001b[39m\u001b[39m.\u001b[39mstate, action, next_state))\n\u001b[0;32m    103\u001b[0m     \u001b[39mreturn\u001b[39;00m next_node\n",
      "File \u001b[1;32md:\\Documentos\\VICTOR\\UNIVERSIDAD\\3r CUADRI\\ABIA\\Practica 1\\PracticaABIA1\\Entrega v1.0.0\\Experimentos/..\\energy_problem.py:15\u001b[0m, in \u001b[0;36mEnergyProblem.result\u001b[1;34m(self, state, action)\u001b[0m\n\u001b[0;32m     14\u001b[0m \u001b[39mdef\u001b[39;00m \u001b[39mresult\u001b[39m(\u001b[39mself\u001b[39m, state: StateRepresentation, action: Operator) \u001b[39m-\u001b[39m\u001b[39m>\u001b[39m StateRepresentation:\n\u001b[1;32m---> 15\u001b[0m     \u001b[39mreturn\u001b[39;00m state\u001b[39m.\u001b[39;49mapply_action(action)\n",
      "File \u001b[1;32md:\\Documentos\\VICTOR\\UNIVERSIDAD\\3r CUADRI\\ABIA\\Practica 1\\PracticaABIA1\\Entrega v1.0.0\\Experimentos/..\\state_representation.py:193\u001b[0m, in \u001b[0;36mStateRepresentation.apply_action\u001b[1;34m(self, action)\u001b[0m\n\u001b[0;32m    192\u001b[0m \u001b[39mdef\u001b[39;00m \u001b[39mapply_action\u001b[39m(\u001b[39mself\u001b[39m, action: Operator):\n\u001b[1;32m--> 193\u001b[0m     new_state \u001b[39m=\u001b[39m \u001b[39mself\u001b[39;49m\u001b[39m.\u001b[39;49mcopy()\n\u001b[0;32m    194\u001b[0m     new_state\u001b[39m.\u001b[39mlast_action \u001b[39m=\u001b[39m action\n\u001b[0;32m    196\u001b[0m     \u001b[39mdef\u001b[39;00m \u001b[39mapply_move_client\u001b[39m(new_state, action):\n",
      "File \u001b[1;32md:\\Documentos\\VICTOR\\UNIVERSIDAD\\3r CUADRI\\ABIA\\Practica 1\\PracticaABIA1\\Entrega v1.0.0\\Experimentos/..\\state_representation.py:46\u001b[0m, in \u001b[0;36mStateRepresentation.copy\u001b[1;34m(self)\u001b[0m\n\u001b[0;32m     43\u001b[0m \u001b[39mdef\u001b[39;00m \u001b[39mcopy\u001b[39m(\u001b[39mself\u001b[39m):\n\u001b[0;32m     44\u001b[0m     \u001b[39mreturn\u001b[39;00m StateRepresentation(\u001b[39mself\u001b[39m\u001b[39m.\u001b[39mparams,\n\u001b[0;32m     45\u001b[0m                                \u001b[39mself\u001b[39m\u001b[39m.\u001b[39mc_pp\u001b[39m.\u001b[39mcopy(),\n\u001b[1;32m---> 46\u001b[0m                                \u001b[39mself\u001b[39;49m\u001b[39m.\u001b[39;49mremain\u001b[39m.\u001b[39;49mcopy(),\n\u001b[0;32m     47\u001b[0m                                \u001b[39mself\u001b[39m\u001b[39m.\u001b[39mconsum,\n\u001b[0;32m     48\u001b[0m                                \u001b[39mself\u001b[39m\u001b[39m.\u001b[39mgain,\n\u001b[0;32m     49\u001b[0m                                \u001b[39mself\u001b[39m\u001b[39m.\u001b[39mprices,\n\u001b[0;32m     50\u001b[0m                                \u001b[39mself\u001b[39m\u001b[39m.\u001b[39mlast_action,\n\u001b[0;32m     51\u001b[0m                                \u001b[39mself\u001b[39m\u001b[39m.\u001b[39mcount_actions\u001b[39m.\u001b[39mcopy(),\n\u001b[0;32m     52\u001b[0m                                \u001b[39mself\u001b[39m\u001b[39m.\u001b[39mmisplaced_clients\n\u001b[0;32m     53\u001b[0m                                )\n",
      "\u001b[1;31mKeyboardInterrupt\u001b[0m: "
     ]
    }
   ],
   "source": [
    "for i, seed in enumerate(seeds):\n",
    "    clientes       = Clientes(ncl=100, propc=[0.25, 0.3, 0.45], propg=0.75, seed=seed)\n",
    "    centrales      = Centrales(centrales_por_tipo=[5, 10, 25], seed=seed)\n",
    "    parametros     = ProblemParameters(clients_vector=clientes, power_plants_vector=centrales)\n",
    "    estado_inicial = InitialState.empty_state(parametros)\n",
    "    problem        = EnergyProblem(estado_inicial, used_actions=[SUPER_MOVE_CLIENT], used_heuristic=FIX_STATE_HEURISTIC)\n",
    "\n",
    "    start        = time.time()\n",
    "    estado_final = hill_climbing(problem)\n",
    "    end          = time.time()\n",
    "\n",
    "    results.append([estado_inicial, end - start, estado_final, seed])\n",
    "\n",
    "    print(f\"Ejecucion {i}\")"
   ]
  },
  {
   "cell_type": "code",
   "execution_count": 22,
   "metadata": {},
   "outputs": [],
   "source": [
    "for i, seed in enumerate(seeds):\n",
    "    clientes       = Clientes(ncl=100, propc=[0.25, 0.3, 0.45], propg=0.75, seed=seed)\n",
    "    centrales      = Centrales(centrales_por_tipo=[5, 10, 25], seed=seed)\n",
    "    parametros     = ProblemParameters(clients_vector=clientes, power_plants_vector=centrales)\n",
    "    estado_inicial = InitialState.empty_state(parametros)\n",
    "    problem        = EnergyProblem(estado_inicial, used_actions=[SUPER_MOVE_CLIENT], used_heuristic=FIX_STATE_HEURISTIC)\n",
    "\n",
    "    start        = time.time()\n",
    "    estado_final = simulated_annealing(problem, exp_schedule(k=20, lam=0.005, limit=500))\n",
    "    end          = time.time()\n",
    "\n",
    "    results.append([estado_inicial, end - start, estado_final, seed])\n",
    "\n",
    "    print(f\"Ejecucion {i}\")"
   ]
  },
  {
   "cell_type": "code",
   "execution_count": 20,
   "metadata": {},
   "outputs": [
    {
     "name": "stdout",
     "output_type": "stream",
     "text": [
      "Semilla: 2521\n",
      "\n",
      "-------------------------------------------\n",
      "\n"
     ]
    }
   ],
   "source": [
    "output = []\n",
    "for i in results:\n",
    "    initial_state = i[0]\n",
    "    final_state = i[2]\n",
    "\n",
    "    close = 0\n",
    "    total = len(final_state.params.power_plants_vector)\n",
    "    for (remain1, remain2) in zip(initial_state.remain, final_state.remain):\n",
    "        close += 1 if remain1 == remain2 else 0\n",
    "\n",
    "    print(f\"Semilla: {i[3]}\")\n",
    "    print(\"\\n-------------------------------------------\\n\")\n",
    "    row = [i[1],\n",
    "           final_state.gain,\n",
    "           final_state.misplaced_clients,\n",
    "           total-close]\n",
    "    output.append(row)\n",
    "\n"
   ]
  },
  {
   "cell_type": "code",
   "execution_count": 21,
   "metadata": {},
   "outputs": [
    {
     "data": {
      "text/plain": [
       "[[-6110.0,\n",
       "  -36806110.0,\n",
       "  368,\n",
       "  731.668566942215,\n",
       "  -51962.0,\n",
       "  -14351962.0,\n",
       "  143,\n",
       "  40,\n",
       "  40,\n",
       "  2521]]"
      ]
     },
     "execution_count": 21,
     "metadata": {},
     "output_type": "execute_result"
    }
   ],
   "source": [
    "output"
   ]
  }
 ],
 "metadata": {
  "kernelspec": {
   "display_name": "Python 3.10.7 64-bit",
   "language": "python",
   "name": "python3"
  },
  "language_info": {
   "codemirror_mode": {
    "name": "ipython",
    "version": 3
   },
   "file_extension": ".py",
   "mimetype": "text/x-python",
   "name": "python",
   "nbconvert_exporter": "python",
   "pygments_lexer": "ipython3",
   "version": "3.10.7"
  },
  "orig_nbformat": 4,
  "vscode": {
   "interpreter": {
    "hash": "b494ecfbe5dcebf52d33ca2e0f780f8afe10afbd7e0a0a94a598161503ebb59a"
   }
  }
 },
 "nbformat": 4,
 "nbformat_minor": 2
}
