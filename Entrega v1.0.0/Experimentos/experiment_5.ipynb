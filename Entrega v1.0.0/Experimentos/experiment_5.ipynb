{
 "cells": [
  {
   "cell_type": "markdown",
   "metadata": {},
   "source": [
    "# Experimento 5"
   ]
  },
  {
   "cell_type": "code",
   "execution_count": 1,
   "metadata": {},
   "outputs": [],
   "source": [
    "import time\n",
    "import random\n",
    "\n",
    "try:\n",
    "    from abia_energia import *\n",
    "    from problem_parameters import *\n",
    "    from initial_state import *\n",
    "    from energy_problem import *\n",
    "    from search import hill_climbing, simulated_annealing, exp_schedule\n",
    "\n",
    "except ImportError:\n",
    "    import sys\n",
    "    sys.path.append(sys.path[0] + '/..')\n",
    "    from abia_energia import *\n",
    "    from problem_parameters import *\n",
    "    from initial_state import *\n",
    "    from energy_problem import *\n",
    "    from search import hill_climbing, simulated_annealing, exp_schedule"
   ]
  },
  {
   "cell_type": "code",
   "execution_count": 2,
   "metadata": {},
   "outputs": [],
   "source": [
    "seeds = [random.randint(0, 10000) for i in range(10)]\n",
    "seeds =  [2521] #,8409,8924,1336,4758,1917,3969,9751,1210,1305]\n",
    "results = []\n"
   ]
  },
  {
   "cell_type": "code",
   "execution_count": 3,
   "metadata": {},
   "outputs": [
    {
     "name": "stdout",
     "output_type": "stream",
     "text": [
      "Ejecucion 0\n"
     ]
    }
   ],
   "source": [
    "for i, seed in enumerate(seeds):\n",
    "    clientes       = Clientes(ncl=100, propc=[0.25, 0.3, 0.45], propg=0.75, seed=seed)\n",
    "    centrales      = Centrales(centrales_por_tipo=[5, 10, 25], seed=seed)\n",
    "    parametros     = ProblemParameters(clients_vector=clientes, power_plants_vector=centrales)\n",
    "    estado_inicial = InitialState.empty_state(parametros)\n",
    "    problem        = EnergyProblem(estado_inicial, used_actions=[SUPER_MOVE_CLIENT], used_heuristic=FIX_STATE_HEURISTIC)\n",
    "\n",
    "    start        = time.time()\n",
    "    estado_final = hill_climbing(problem)\n",
    "    end          = time.time()\n",
    "\n",
    "    results.append([estado_inicial, end - start, estado_final, seed])\n",
    "\n",
    "    print(f\"Ejecucion {i}\")"
   ]
  },
  {
   "cell_type": "code",
   "execution_count": 4,
   "metadata": {},
   "outputs": [
    {
     "name": "stdout",
     "output_type": "stream",
     "text": [
      "Ejecucion 0\n"
     ]
    }
   ],
   "source": [
    "for i, seed in enumerate(seeds):\n",
    "    clientes       = Clientes(ncl=100, propc=[0.25, 0.3, 0.45], propg=0.75, seed=seed)\n",
    "    centrales      = Centrales(centrales_por_tipo=[5, 10, 25], seed=seed)\n",
    "    parametros     = ProblemParameters(clients_vector=clientes, power_plants_vector=centrales)\n",
    "    estado_inicial = InitialState.empty_state(parametros)\n",
    "    problem        = EnergyProblem(estado_inicial, used_actions=[SUPER_MOVE_CLIENT], used_heuristic=FIX_STATE_HEURISTIC, use_one_action=True)\n",
    "\n",
    "    start        = time.time()\n",
    "    estado_final = simulated_annealing(problem, exp_schedule(k=20, lam=0.005, limit=10))\n",
    "    end          = time.time()\n",
    "\n",
    "    results.append([estado_inicial, end - start, estado_final, seed])\n",
    "\n",
    "    print(f\"Ejecucion {i}\")"
   ]
  },
  {
   "cell_type": "code",
   "execution_count": 5,
   "metadata": {},
   "outputs": [
    {
     "name": "stdout",
     "output_type": "stream",
     "text": [
      "Semilla: 2521\n",
      "\n",
      "-------------------------------------------\n",
      "\n",
      "Semilla: 2521\n",
      "\n",
      "-------------------------------------------\n",
      "\n"
     ]
    }
   ],
   "source": [
    "output = []\n",
    "for i in results:\n",
    "    initial_state = i[0]\n",
    "    final_state = i[2]\n",
    "\n",
    "    close = 0\n",
    "    total = len(final_state.params.power_plants_vector)\n",
    "    for (remain1, remain2) in zip(initial_state.remain, final_state.remain):\n",
    "        close += 1 if remain1 == remain2 else 0\n",
    "\n",
    "    print(f\"Semilla: {i[3]}\")\n",
    "    print(\"\\n-------------------------------------------\\n\")\n",
    "    row = [i[1],\n",
    "           final_state.gain,\n",
    "           final_state.misplaced_clients,\n",
    "           total-close]\n",
    "    output.append(row)\n",
    "\n"
   ]
  },
  {
   "cell_type": "code",
   "execution_count": 6,
   "metadata": {},
   "outputs": [
    {
     "data": {
      "text/plain": [
       "[[10.166535139083862, -16115.0, 0, 19], [7.983999490737915, -25265.0, 68, 6]]"
      ]
     },
     "execution_count": 6,
     "metadata": {},
     "output_type": "execute_result"
    }
   ],
   "source": [
    "output"
   ]
  }
 ],
 "metadata": {
  "kernelspec": {
   "display_name": "Python 3.10.7 64-bit",
   "language": "python",
   "name": "python3"
  },
  "language_info": {
   "codemirror_mode": {
    "name": "ipython",
    "version": 3
   },
   "file_extension": ".py",
   "mimetype": "text/x-python",
   "name": "python",
   "nbconvert_exporter": "python",
   "pygments_lexer": "ipython3",
   "version": "3.10.7"
  },
  "orig_nbformat": 4,
  "vscode": {
   "interpreter": {
    "hash": "b494ecfbe5dcebf52d33ca2e0f780f8afe10afbd7e0a0a94a598161503ebb59a"
   }
  }
 },
 "nbformat": 4,
 "nbformat_minor": 2
}
