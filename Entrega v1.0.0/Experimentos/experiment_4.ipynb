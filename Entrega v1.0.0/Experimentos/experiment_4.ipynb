{
 "cells": [
  {
   "cell_type": "markdown",
   "metadata": {},
   "source": [
    "# Experimento 4"
   ]
  },
  {
   "cell_type": "code",
   "execution_count": 2,
   "metadata": {},
   "outputs": [],
   "source": [
    "import time\n",
    "import random\n",
    "import matplotlib.pyplot as plt\n",
    "\n",
    "try:\n",
    "    from abia_energia import *\n",
    "    from problem_parameters import *\n",
    "    from initial_state import *\n",
    "    from energy_problem import *\n",
    "    from search import hill_climbing\n",
    "\n",
    "except ImportError:\n",
    "    import sys\n",
    "    sys.path.append(sys.path[0] + '/..')\n",
    "    from abia_energia import *\n",
    "    from problem_parameters import *\n",
    "    from initial_state import *\n",
    "    from energy_problem import *\n",
    "    from search import hill_climbing"
   ]
  },
  {
   "cell_type": "code",
   "execution_count": 3,
   "metadata": {},
   "outputs": [
    {
     "name": "stdout",
     "output_type": "stream",
     "text": [
      "[3810, 4075, 5013, 7899, 152, 6363, 1533, 4405, 7000, 6367]\n"
     ]
    }
   ],
   "source": [
    "seeds = [random.randint(0, 10000) for i in range(10)]\n",
    "print(seeds)\n",
    "\n",
    "times_execution = []\n",
    "times_state = []"
   ]
  },
  {
   "cell_type": "code",
   "execution_count": null,
   "metadata": {},
   "outputs": [],
   "source": [
    "for seed in seeds:\n",
    "    k = 1\n",
    "    for j in range(0, 500, 10):\n",
    "        n = j + 1\n",
    "        clientes       = Clientes(ncl=1000, propc=[0.25, 0.3, 0.45], propg=0.75, seed=seed)\n",
    "        centrales      = Centrales(centrales_por_tipo=[5 * n, 10 * n, 25 * n], seed=seed)\n",
    "        parametros     = ProblemParameters(clients_vector=clientes, power_plants_vector=centrales)\n",
    "        \n",
    "        start = time.time()\n",
    "        estado_inicial = InitialState.simple_state(parametros)\n",
    "        end = time.time()\n",
    "        times_state.append(end - start)\n",
    "\n",
    "        problem        = EnergyProblem(estado_inicial, used_actions=[0], used_heuristic=GAIN_HEURISTIC)\n",
    "\n",
    "        start        = time.time()\n",
    "        estado_final = hill_climbing(problem)\n",
    "        end          = time.time()\n",
    "        times_execution.append(end - start)\n",
    "\n",
    "        print(f\"Ejecucion {k}\")\n",
    "        k += 1\n",
    "\n",
    "\n",
    "for i in times_execution:\n",
    "    print(i)\n",
    "\n",
    "plt.plot(times_execution)\n",
    "plt.show()\n",
    "\n",
    "\n",
    "for i in times_state:\n",
    "    print(i)\n",
    "\n",
    "plt.plot(times_state)\n",
    "plt.show()"
   ]
  }
 ],
 "metadata": {
  "kernelspec": {
   "display_name": "Python 3.10.7 64-bit",
   "language": "python",
   "name": "python3"
  },
  "language_info": {
   "codemirror_mode": {
    "name": "ipython",
    "version": 3
   },
   "file_extension": ".py",
   "mimetype": "text/x-python",
   "name": "python",
   "nbconvert_exporter": "python",
   "pygments_lexer": "ipython3",
   "version": "3.10.7"
  },
  "orig_nbformat": 4,
  "vscode": {
   "interpreter": {
    "hash": "b494ecfbe5dcebf52d33ca2e0f780f8afe10afbd7e0a0a94a598161503ebb59a"
   }
  }
 },
 "nbformat": 4,
 "nbformat_minor": 2
}
