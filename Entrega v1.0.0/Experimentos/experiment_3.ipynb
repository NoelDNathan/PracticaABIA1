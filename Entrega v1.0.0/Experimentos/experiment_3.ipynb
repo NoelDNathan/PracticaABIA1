{
 "cells": [
  {
   "cell_type": "markdown",
   "metadata": {},
   "source": [
    "# Experimento 3"
   ]
  },
  {
   "cell_type": "code",
   "execution_count": 2,
   "metadata": {},
   "outputs": [],
   "source": [
    "import time\n",
    "import random\n",
    "\n",
    "try:\n",
    "    from abia_energia import *\n",
    "    from problem_parameters import *\n",
    "    from initial_state import *\n",
    "    from energy_problem import *\n",
    "    from search import hill_climbing, simulated_annealing, exp_schedule\n",
    "\n",
    "except ImportError:\n",
    "    import sys\n",
    "    sys.path.append(sys.path[0] + '/..')\n",
    "    from abia_energia import *\n",
    "    from problem_parameters import *\n",
    "    from initial_state import *\n",
    "    from energy_problem import *\n",
    "    from search import hill_climbing, simulated_annealing, exp_schedule"
   ]
  },
  {
   "cell_type": "code",
   "execution_count": 3,
   "metadata": {},
   "outputs": [],
   "source": [
    "# seeds = [random.randint(0, 10000) for i in range(10)]\n",
    "seeds = [2521,8409,8924,6008,4758,1917,3969,9751,1210,1305]"
   ]
  },
  {
   "cell_type": "code",
   "execution_count": 5,
   "metadata": {},
   "outputs": [],
   "source": [
    "\n",
    "def execute_simulated_annealing():\n",
    "    results = []\n",
    "    for i, seed in enumerate(seeds):\n",
    "        clientes       = Clientes(ncl=1000, propc=[0.25, 0.3, 0.45], propg=0.75, seed=seed)\n",
    "        centrales      = Centrales(centrales_por_tipo=[5, 10, 25], seed=seed)\n",
    "        parametros     = ProblemParameters(clients_vector=clientes, power_plants_vector=centrales)\n",
    "        estado_inicial = InitialState.simple_state(parametros)\n",
    "        problem        = EnergyProblem(estado_inicial, used_actions=[0], used_heuristic=GAIN_HEURISTIC, use_one_action=True)\n",
    "\n",
    "        start        = time.time()\n",
    "        estado_final = simulated_annealing(problem, exp_schedule(k=50, lam=0.5, limit=200))\n",
    "        end          = time.time()\n",
    "        results.append([estado_inicial, end - start, estado_final, seed])\n",
    "\n",
    "        print(f\"Ejecucion {i}\")\n",
    "    \n",
    "    print(\"\\nTimes:\")\n",
    "    for i in results:\n",
    "        print(i[1])    \n",
    "    print(\"\\nGain:\")\n",
    "    for i in results:\n",
    "        print(i[2].gain - i[0].gain)\n",
    "    print(\"\\nServed clients:\")\n",
    "    for i in results:\n",
    "        print(i[2].served_clients() - i[0].served_clients())\n",
    "\n",
    "\n",
    "def compare_results():\n",
    "    results1 = []\n",
    "    results2 = []\n",
    "\n",
    "    for i, seed in enumerate(seeds):\n",
    "        clientes       = Clientes(ncl=1000, propc=[0.25, 0.3, 0.45], propg=0.75, seed=seed)\n",
    "        centrales      = Centrales(centrales_por_tipo=[5, 10, 25], seed=seed)\n",
    "        parametros     = ProblemParameters(clients_vector=clientes, power_plants_vector=centrales)\n",
    "        estado_inicial = InitialState.simple_state(parametros)\n",
    "        problem        = EnergyProblem(estado_inicial, used_actions=[0], used_heuristic=GAIN_HEURISTIC, use_one_action=True)\n",
    "\n",
    "        start        = time.time()\n",
    "        estado_final = simulated_annealing(problem, exp_schedule())\n",
    "        end          = time.time()\n",
    "        results1.append([estado_inicial, end - start, estado_final, seed])\n",
    "\n",
    "        problem = EnergyProblem(estado_inicial, used_actions=[0], used_heuristic=GAIN_HEURISTIC)\n",
    "        start        = time.time()\n",
    "        estado_final = hill_climbing(problem)\n",
    "        end          = time.time()\n",
    "        results2.append([estado_inicial, end - start, estado_final, seed])\n",
    "\n",
    "        print(f\"Ejecucion {i}\")\n",
    "\n",
    "\n",
    "    for i in range(len(results1)):\n",
    "        print(\"\\n-------------------------------------------\\n\")\n",
    "        print(f\"Estado iniciail: {results1[i][0]}\")\n",
    "        print(f\"Simulated annealing: {results1[i][1]}\\n\")\n",
    "        print(f\"Estado final: {results1[i][2]}\")\n",
    "\n",
    "        print(f\"Semilla: {results1[i][3]}\")\n",
    "        print(\"\\n-------------------------------------------\\n\")\n",
    "\n",
    "        print(\"\\n-------------------------------------------\\n\")\n",
    "        print(f\"Estado iniciail: {results2[i][0]}\")\n",
    "        print(f\"Hill Climbing: {results2[i][1]}\\n\")\n",
    "        print(f\"Estado final: {results2[i][2]}\")\n",
    "\n",
    "        print(f\"Semilla: {results2[i][3]}\")\n",
    "        print(\"\\n-------------------------------------------\\n\")"
   ]
  },
  {
   "cell_type": "code",
   "execution_count": null,
   "metadata": {},
   "outputs": [],
   "source": [
    "simulated_annealing()"
   ]
  },
  {
   "cell_type": "code",
   "execution_count": null,
   "metadata": {},
   "outputs": [],
   "source": [
    "compare_results()"
   ]
  }
 ],
 "metadata": {
  "kernelspec": {
   "display_name": "Python 3.10.7 64-bit",
   "language": "python",
   "name": "python3"
  },
  "language_info": {
   "codemirror_mode": {
    "name": "ipython",
    "version": 3
   },
   "file_extension": ".py",
   "mimetype": "text/x-python",
   "name": "python",
   "nbconvert_exporter": "python",
   "pygments_lexer": "ipython3",
   "version": "3.10.7"
  },
  "orig_nbformat": 4,
  "vscode": {
   "interpreter": {
    "hash": "b494ecfbe5dcebf52d33ca2e0f780f8afe10afbd7e0a0a94a598161503ebb59a"
   }
  }
 },
 "nbformat": 4,
 "nbformat_minor": 2
}
