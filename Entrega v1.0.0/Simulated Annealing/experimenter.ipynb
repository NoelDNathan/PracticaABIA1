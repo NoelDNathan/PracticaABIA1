{
 "cells": [
  {
   "cell_type": "markdown",
   "metadata": {},
   "source": [
    "# Ejecución de los experimentos"
   ]
  },
  {
   "cell_type": "code",
   "execution_count": 1,
   "metadata": {},
   "outputs": [],
   "source": [
    "import time\n",
    "import random\n",
    "from abia_energia import *\n",
    "from problem_parameters import *\n",
    "from initial_state import *\n",
    "from energy_problem import *\n",
    "from search import hill_climbing, simulated_annealing"
   ]
  },
  {
   "cell_type": "code",
   "execution_count": 20,
   "metadata": {},
   "outputs": [],
   "source": [
    "# random_seeds = [random.randint(0, 10000) for i in range(10)]\n",
    "\n",
    "random_seeds = [9361] # 4177, 392]\n",
    "\n",
    "results1 = []\n",
    "results2 = []"
   ]
  },
  {
   "cell_type": "code",
   "execution_count": 21,
   "metadata": {},
   "outputs": [
    {
     "name": "stdout",
     "output_type": "stream",
     "text": [
      "Ejecucion 0\n"
     ]
    }
   ],
   "source": [
    "from search import exp_schedule\n",
    "\n",
    "\n",
    "for i, seed in enumerate(random_seeds):\n",
    "    clientes       = Clientes(ncl=1000, propc=[0.25, 0.3, 0.45], propg=0.75, seed=seed)\n",
    "    centrales      = Centrales(centrales_por_tipo=[5, 10, 25], seed=seed)\n",
    "    parametros     = ProblemParameters(clients_vector=clientes, power_plants_vector=centrales)\n",
    "    estado_inicial = InitialState.simple_state(parametros)\n",
    "    problem        = EnergyProblem(estado_inicial, used_actions=[0], used_heuristic=GAIN_HEURISTIC, use_one_action=True)\n",
    "\n",
    "    start        = time.time()\n",
    "    estado_final = simulated_annealing(problem, exp_schedule())\n",
    "    end          = time.time()\n",
    "    results1.append([estado_inicial, end - start, estado_final, seed])\n",
    "\n",
    "    problem = EnergyProblem(estado_inicial, used_actions=[0], used_heuristic=GAIN_HEURISTIC)\n",
    "    start        = time.time()\n",
    "    estado_final = hill_climbing(problem)\n",
    "    end          = time.time()\n",
    "    results2.append([estado_inicial, end - start, estado_final, seed])\n",
    "\n",
    "    print(f\"Ejecucion {i}\")"
   ]
  },
  {
   "cell_type": "code",
   "execution_count": 22,
   "metadata": {},
   "outputs": [
    {
     "name": "stdout",
     "output_type": "stream",
     "text": [
      "\n",
      "-------------------------------------------\n",
      "\n",
      "Estado iniciail: Served clients = 736 of 1000 \n",
      "Gains: 110601.0 \n",
      "\n",
      "Simulated annealing: 2.898035764694214\n",
      "\n",
      "Estado final: Served clients = 765 of 1000 \n",
      "Gains: 111186.0 \n",
      "\n",
      "Count actions: [0, 0, 0]\n",
      "Semilla: 9361\n",
      "\n",
      "-------------------------------------------\n",
      "\n",
      "\n",
      "-------------------------------------------\n",
      "\n",
      "Estado iniciail: Served clients = 736 of 1000 \n",
      "Gains: 110601.0 \n",
      "\n",
      "Hill Climbing: 4.48558783531189\n",
      "\n",
      "Estado final: Served clients = 761 of 1000 \n",
      "Gains: 112021.0 \n",
      "\n",
      "Count actions: [26, 0, 0]\n",
      "Semilla: 9361\n",
      "\n",
      "-------------------------------------------\n",
      "\n"
     ]
    }
   ],
   "source": [
    "for i in range(len(results1)):\n",
    "    print(\"\\n-------------------------------------------\\n\")\n",
    "    print(f\"Estado iniciail: {results1[i][0]}\")\n",
    "    print(f\"Simulated annealing: {results1[i][1]}\\n\")\n",
    "    print(f\"Estado final: {results1[i][2]}\")\n",
    "    print(f\"Count actions: {results1[i][2].count_actions}\")\n",
    "\n",
    "    print(f\"Semilla: {results1[i][3]}\")\n",
    "    print(\"\\n-------------------------------------------\\n\")\n",
    "\n",
    "    print(\"\\n-------------------------------------------\\n\")\n",
    "    print(f\"Estado iniciail: {results2[i][0]}\")\n",
    "    print(f\"Hill Climbing: {results2[i][1]}\\n\")\n",
    "    print(f\"Estado final: {results2[i][2]}\")\n",
    "    print(f\"Count actions: {results2[i][2].count_actions}\")\n",
    "\n",
    "    print(f\"Semilla: {results2[i][3]}\")\n",
    "    print(\"\\n-------------------------------------------\\n\")"
   ]
  },
  {
   "cell_type": "code",
   "execution_count": null,
   "metadata": {},
   "outputs": [],
   "source": []
  }
 ],
 "metadata": {
  "kernelspec": {
   "display_name": "Python 3.9.13 64-bit (microsoft store)",
   "language": "python",
   "name": "python3"
  },
  "language_info": {
   "codemirror_mode": {
    "name": "ipython",
    "version": 3
   },
   "file_extension": ".py",
   "mimetype": "text/x-python",
   "name": "python",
   "nbconvert_exporter": "python",
   "pygments_lexer": "ipython3",
   "version": "3.9.13"
  },
  "orig_nbformat": 4,
  "vscode": {
   "interpreter": {
    "hash": "7f091c142329ce515d22269b044f5e2d3e59165699851ce5954df716a3d77f48"
   }
  }
 },
 "nbformat": 4,
 "nbformat_minor": 2
}
